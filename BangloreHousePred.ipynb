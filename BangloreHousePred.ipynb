{
 "cells": [
  {
   "cell_type": "code",
   "execution_count": 1,
   "id": "86f21901",
   "metadata": {},
   "outputs": [],
   "source": [
    "import pandas as pd\n",
    "import matplotlib.pyplot as plt\n",
    "import seaborn as sns\n",
    "import numpy as np"
   ]
  },
  {
   "cell_type": "code",
   "execution_count": 2,
   "id": "ec0c14de",
   "metadata": {},
   "outputs": [
    {
     "data": {
      "text/html": [
       "<div>\n",
       "<style scoped>\n",
       "    .dataframe tbody tr th:only-of-type {\n",
       "        vertical-align: middle;\n",
       "    }\n",
       "\n",
       "    .dataframe tbody tr th {\n",
       "        vertical-align: top;\n",
       "    }\n",
       "\n",
       "    .dataframe thead th {\n",
       "        text-align: right;\n",
       "    }\n",
       "</style>\n",
       "<table border=\"1\" class=\"dataframe\">\n",
       "  <thead>\n",
       "    <tr style=\"text-align: right;\">\n",
       "      <th></th>\n",
       "      <th>area_type</th>\n",
       "      <th>availability</th>\n",
       "      <th>location</th>\n",
       "      <th>size</th>\n",
       "      <th>society</th>\n",
       "      <th>total_sqft</th>\n",
       "      <th>bath</th>\n",
       "      <th>balcony</th>\n",
       "      <th>price</th>\n",
       "    </tr>\n",
       "  </thead>\n",
       "  <tbody>\n",
       "    <tr>\n",
       "      <th>0</th>\n",
       "      <td>Super built-up  Area</td>\n",
       "      <td>19-Dec</td>\n",
       "      <td>Electronic City Phase II</td>\n",
       "      <td>2 BHK</td>\n",
       "      <td>Coomee</td>\n",
       "      <td>1056</td>\n",
       "      <td>2.0</td>\n",
       "      <td>1.0</td>\n",
       "      <td>39.07</td>\n",
       "    </tr>\n",
       "    <tr>\n",
       "      <th>1</th>\n",
       "      <td>Plot  Area</td>\n",
       "      <td>Ready To Move</td>\n",
       "      <td>Chikka Tirupathi</td>\n",
       "      <td>4 Bedroom</td>\n",
       "      <td>Theanmp</td>\n",
       "      <td>2600</td>\n",
       "      <td>5.0</td>\n",
       "      <td>3.0</td>\n",
       "      <td>120.00</td>\n",
       "    </tr>\n",
       "    <tr>\n",
       "      <th>2</th>\n",
       "      <td>Built-up  Area</td>\n",
       "      <td>Ready To Move</td>\n",
       "      <td>Uttarahalli</td>\n",
       "      <td>3 BHK</td>\n",
       "      <td>NaN</td>\n",
       "      <td>1440</td>\n",
       "      <td>2.0</td>\n",
       "      <td>3.0</td>\n",
       "      <td>62.00</td>\n",
       "    </tr>\n",
       "    <tr>\n",
       "      <th>3</th>\n",
       "      <td>Super built-up  Area</td>\n",
       "      <td>Ready To Move</td>\n",
       "      <td>Lingadheeranahalli</td>\n",
       "      <td>3 BHK</td>\n",
       "      <td>Soiewre</td>\n",
       "      <td>1521</td>\n",
       "      <td>3.0</td>\n",
       "      <td>1.0</td>\n",
       "      <td>95.00</td>\n",
       "    </tr>\n",
       "    <tr>\n",
       "      <th>4</th>\n",
       "      <td>Super built-up  Area</td>\n",
       "      <td>Ready To Move</td>\n",
       "      <td>Kothanur</td>\n",
       "      <td>2 BHK</td>\n",
       "      <td>NaN</td>\n",
       "      <td>1200</td>\n",
       "      <td>2.0</td>\n",
       "      <td>1.0</td>\n",
       "      <td>51.00</td>\n",
       "    </tr>\n",
       "  </tbody>\n",
       "</table>\n",
       "</div>"
      ],
      "text/plain": [
       "              area_type   availability                  location       size  \\\n",
       "0  Super built-up  Area         19-Dec  Electronic City Phase II      2 BHK   \n",
       "1            Plot  Area  Ready To Move          Chikka Tirupathi  4 Bedroom   \n",
       "2        Built-up  Area  Ready To Move               Uttarahalli      3 BHK   \n",
       "3  Super built-up  Area  Ready To Move        Lingadheeranahalli      3 BHK   \n",
       "4  Super built-up  Area  Ready To Move                  Kothanur      2 BHK   \n",
       "\n",
       "   society total_sqft  bath  balcony   price  \n",
       "0  Coomee        1056   2.0      1.0   39.07  \n",
       "1  Theanmp       2600   5.0      3.0  120.00  \n",
       "2      NaN       1440   2.0      3.0   62.00  \n",
       "3  Soiewre       1521   3.0      1.0   95.00  \n",
       "4      NaN       1200   2.0      1.0   51.00  "
      ]
     },
     "execution_count": 2,
     "metadata": {},
     "output_type": "execute_result"
    }
   ],
   "source": [
    "house=pd.read_csv(\"Bengaluru_House_Data.csv\")\n",
    "house.head()"
   ]
  },
  {
   "cell_type": "code",
   "execution_count": 3,
   "id": "75d505de",
   "metadata": {},
   "outputs": [
    {
     "data": {
      "text/plain": [
       "(13320, 9)"
      ]
     },
     "execution_count": 3,
     "metadata": {},
     "output_type": "execute_result"
    }
   ],
   "source": [
    "house.shape"
   ]
  },
  {
   "cell_type": "code",
   "execution_count": 4,
   "id": "fd66ff42",
   "metadata": {},
   "outputs": [
    {
     "data": {
      "text/plain": [
       "area_type          0\n",
       "availability       0\n",
       "location           1\n",
       "size              16\n",
       "society         5502\n",
       "total_sqft         0\n",
       "bath              73\n",
       "balcony          609\n",
       "price              0\n",
       "dtype: int64"
      ]
     },
     "execution_count": 4,
     "metadata": {},
     "output_type": "execute_result"
    }
   ],
   "source": [
    "#Data Cleaning:\n",
    "\n",
    "house.isna().sum()"
   ]
  },
  {
   "cell_type": "raw",
   "id": "2e584f66",
   "metadata": {},
   "source": [
    "#Inference: \n",
    "\n",
    "1.Society doesnt provide useful information so we can drop the feature.\n",
    "2.total rows of dataset is 13320 , on seeing null values which 73 for bath and 16 for size and 1 for location we can drop those rows as the number of rows is negligible compared to total number\n"
   ]
  },
  {
   "cell_type": "code",
   "execution_count": 5,
   "id": "b2a7e066",
   "metadata": {},
   "outputs": [],
   "source": [
    "house.drop(columns=['balcony','society','availability'],axis=1,inplace=True)"
   ]
  },
  {
   "cell_type": "code",
   "execution_count": 6,
   "id": "3a4e8512",
   "metadata": {},
   "outputs": [],
   "source": [
    "#Inference:Its not possible to determine price w.r.t availability. so we can drop this feature."
   ]
  },
  {
   "cell_type": "code",
   "execution_count": 7,
   "id": "0f961376",
   "metadata": {},
   "outputs": [],
   "source": [
    "house.dropna(inplace=True,axis=0)"
   ]
  },
  {
   "cell_type": "code",
   "execution_count": 8,
   "id": "9f38b5df",
   "metadata": {},
   "outputs": [
    {
     "data": {
      "text/plain": [
       "array(['Super built-up  Area', 'Plot  Area', 'Built-up  Area',\n",
       "       'Carpet  Area'], dtype=object)"
      ]
     },
     "execution_count": 8,
     "metadata": {},
     "output_type": "execute_result"
    }
   ],
   "source": [
    "house['area_type'].unique()"
   ]
  },
  {
   "cell_type": "code",
   "execution_count": 9,
   "id": "65ba7a05",
   "metadata": {},
   "outputs": [
    {
     "data": {
      "text/html": [
       "<div>\n",
       "<style scoped>\n",
       "    .dataframe tbody tr th:only-of-type {\n",
       "        vertical-align: middle;\n",
       "    }\n",
       "\n",
       "    .dataframe tbody tr th {\n",
       "        vertical-align: top;\n",
       "    }\n",
       "\n",
       "    .dataframe thead th {\n",
       "        text-align: right;\n",
       "    }\n",
       "</style>\n",
       "<table border=\"1\" class=\"dataframe\">\n",
       "  <thead>\n",
       "    <tr style=\"text-align: right;\">\n",
       "      <th></th>\n",
       "      <th>area_type</th>\n",
       "      <th>location</th>\n",
       "      <th>size</th>\n",
       "      <th>total_sqft</th>\n",
       "      <th>bath</th>\n",
       "      <th>price</th>\n",
       "    </tr>\n",
       "  </thead>\n",
       "  <tbody>\n",
       "    <tr>\n",
       "      <th>0</th>\n",
       "      <td>Super built-up  Area</td>\n",
       "      <td>Electronic City Phase II</td>\n",
       "      <td>2</td>\n",
       "      <td>1056</td>\n",
       "      <td>2.0</td>\n",
       "      <td>39.07</td>\n",
       "    </tr>\n",
       "    <tr>\n",
       "      <th>1</th>\n",
       "      <td>Plot  Area</td>\n",
       "      <td>Chikka Tirupathi</td>\n",
       "      <td>4</td>\n",
       "      <td>2600</td>\n",
       "      <td>5.0</td>\n",
       "      <td>120.00</td>\n",
       "    </tr>\n",
       "    <tr>\n",
       "      <th>2</th>\n",
       "      <td>Built-up  Area</td>\n",
       "      <td>Uttarahalli</td>\n",
       "      <td>3</td>\n",
       "      <td>1440</td>\n",
       "      <td>2.0</td>\n",
       "      <td>62.00</td>\n",
       "    </tr>\n",
       "    <tr>\n",
       "      <th>3</th>\n",
       "      <td>Super built-up  Area</td>\n",
       "      <td>Lingadheeranahalli</td>\n",
       "      <td>3</td>\n",
       "      <td>1521</td>\n",
       "      <td>3.0</td>\n",
       "      <td>95.00</td>\n",
       "    </tr>\n",
       "    <tr>\n",
       "      <th>4</th>\n",
       "      <td>Super built-up  Area</td>\n",
       "      <td>Kothanur</td>\n",
       "      <td>2</td>\n",
       "      <td>1200</td>\n",
       "      <td>2.0</td>\n",
       "      <td>51.00</td>\n",
       "    </tr>\n",
       "  </tbody>\n",
       "</table>\n",
       "</div>"
      ],
      "text/plain": [
       "              area_type                  location size total_sqft  bath  \\\n",
       "0  Super built-up  Area  Electronic City Phase II    2       1056   2.0   \n",
       "1            Plot  Area          Chikka Tirupathi    4       2600   5.0   \n",
       "2        Built-up  Area               Uttarahalli    3       1440   2.0   \n",
       "3  Super built-up  Area        Lingadheeranahalli    3       1521   3.0   \n",
       "4  Super built-up  Area                  Kothanur    2       1200   2.0   \n",
       "\n",
       "    price  \n",
       "0   39.07  \n",
       "1  120.00  \n",
       "2   62.00  \n",
       "3   95.00  \n",
       "4   51.00  "
      ]
     },
     "execution_count": 9,
     "metadata": {},
     "output_type": "execute_result"
    }
   ],
   "source": [
    "#convert size to numerical:\n",
    "\n",
    "house['size']=house['size'].str.split(\" \").str[0]\n",
    "\n",
    "house.head()"
   ]
  },
  {
   "cell_type": "code",
   "execution_count": 10,
   "id": "b68caa96",
   "metadata": {},
   "outputs": [
    {
     "data": {
      "text/plain": [
       "array(['2', '4', '3', '6', '1', '8', '7', '5', '11', '9', '27', '10',\n",
       "       '19', '16', '43', '14', '12', '13', '18'], dtype=object)"
      ]
     },
     "execution_count": 10,
     "metadata": {},
     "output_type": "execute_result"
    }
   ],
   "source": [
    "house['size'].unique()"
   ]
  },
  {
   "cell_type": "code",
   "execution_count": 11,
   "id": "ac9463f5",
   "metadata": {},
   "outputs": [
    {
     "data": {
      "text/plain": [
       "1200    843\n",
       "1100    221\n",
       "1500    204\n",
       "2400    195\n",
       "600     180\n",
       "       ... \n",
       "5985      1\n",
       "3580      1\n",
       "2461      1\n",
       "1437      1\n",
       "4689      1\n",
       "Name: total_sqft, Length: 2067, dtype: int64"
      ]
     },
     "execution_count": 11,
     "metadata": {},
     "output_type": "execute_result"
    }
   ],
   "source": [
    "house['total_sqft'].value_counts()"
   ]
  },
  {
   "cell_type": "code",
   "execution_count": 12,
   "id": "0640e31e",
   "metadata": {},
   "outputs": [],
   "source": [
    "#Inference: we could see some of the values in total-sqft are in range . so to extract those\n",
    "house['total_sqft'].astype('object')\n",
    "\n",
    "def convert_sqft_to_num(x):\n",
    "    tokens = x.split('-')\n",
    "    if len(tokens) == 2:\n",
    "        return (float(tokens[0])+float(tokens[1]))/2\n",
    "    try:\n",
    "        return float(x)\n",
    "    except:\n",
    "        return None   "
   ]
  },
  {
   "cell_type": "code",
   "execution_count": 13,
   "id": "62e83826",
   "metadata": {},
   "outputs": [
    {
     "data": {
      "text/html": [
       "<div>\n",
       "<style scoped>\n",
       "    .dataframe tbody tr th:only-of-type {\n",
       "        vertical-align: middle;\n",
       "    }\n",
       "\n",
       "    .dataframe tbody tr th {\n",
       "        vertical-align: top;\n",
       "    }\n",
       "\n",
       "    .dataframe thead th {\n",
       "        text-align: right;\n",
       "    }\n",
       "</style>\n",
       "<table border=\"1\" class=\"dataframe\">\n",
       "  <thead>\n",
       "    <tr style=\"text-align: right;\">\n",
       "      <th></th>\n",
       "      <th>area_type</th>\n",
       "      <th>location</th>\n",
       "      <th>size</th>\n",
       "      <th>total_sqft</th>\n",
       "      <th>bath</th>\n",
       "      <th>price</th>\n",
       "    </tr>\n",
       "  </thead>\n",
       "  <tbody>\n",
       "    <tr>\n",
       "      <th>0</th>\n",
       "      <td>Super built-up  Area</td>\n",
       "      <td>Electronic City Phase II</td>\n",
       "      <td>2</td>\n",
       "      <td>1056.0</td>\n",
       "      <td>2.0</td>\n",
       "      <td>39.07</td>\n",
       "    </tr>\n",
       "    <tr>\n",
       "      <th>1</th>\n",
       "      <td>Plot  Area</td>\n",
       "      <td>Chikka Tirupathi</td>\n",
       "      <td>4</td>\n",
       "      <td>2600.0</td>\n",
       "      <td>5.0</td>\n",
       "      <td>120.00</td>\n",
       "    </tr>\n",
       "  </tbody>\n",
       "</table>\n",
       "</div>"
      ],
      "text/plain": [
       "              area_type                  location size  total_sqft  bath  \\\n",
       "0  Super built-up  Area  Electronic City Phase II    2      1056.0   2.0   \n",
       "1            Plot  Area          Chikka Tirupathi    4      2600.0   5.0   \n",
       "\n",
       "    price  \n",
       "0   39.07  \n",
       "1  120.00  "
      ]
     },
     "execution_count": 13,
     "metadata": {},
     "output_type": "execute_result"
    }
   ],
   "source": [
    "df = house.copy()\n",
    "df.total_sqft = df.total_sqft.apply(convert_sqft_to_num)\n",
    "df = df[df.total_sqft.notnull()]\n",
    "df.head(2)"
   ]
  },
  {
   "cell_type": "code",
   "execution_count": 14,
   "id": "9e47e260",
   "metadata": {},
   "outputs": [
    {
     "data": {
      "text/plain": [
       "area_type     Super built-up  Area\n",
       "location                 Yelahanka\n",
       "size                             4\n",
       "total_sqft                  2475.0\n",
       "bath                           4.0\n",
       "price                        186.0\n",
       "Name: 30, dtype: object"
      ]
     },
     "execution_count": 14,
     "metadata": {},
     "output_type": "execute_result"
    }
   ],
   "source": [
    "df.loc[30]"
   ]
  },
  {
   "cell_type": "code",
   "execution_count": 15,
   "id": "471d19e7",
   "metadata": {},
   "outputs": [],
   "source": [
    "# Comparing bhk(size) and bathroom :\n",
    "df['size']=df['size'].astype('int')\n",
    "df['bath']=df['bath'].astype('int')\n",
    "df_1=df.copy()\n",
    "\n",
    "df_1=df.loc[df['bath']>df['size']+2]"
   ]
  },
  {
   "cell_type": "code",
   "execution_count": 16,
   "id": "a818338a",
   "metadata": {},
   "outputs": [
    {
     "data": {
      "text/html": [
       "<div>\n",
       "<style scoped>\n",
       "    .dataframe tbody tr th:only-of-type {\n",
       "        vertical-align: middle;\n",
       "    }\n",
       "\n",
       "    .dataframe tbody tr th {\n",
       "        vertical-align: top;\n",
       "    }\n",
       "\n",
       "    .dataframe thead th {\n",
       "        text-align: right;\n",
       "    }\n",
       "</style>\n",
       "<table border=\"1\" class=\"dataframe\">\n",
       "  <thead>\n",
       "    <tr style=\"text-align: right;\">\n",
       "      <th></th>\n",
       "      <th>area_type</th>\n",
       "      <th>location</th>\n",
       "      <th>size</th>\n",
       "      <th>total_sqft</th>\n",
       "      <th>bath</th>\n",
       "      <th>price</th>\n",
       "    </tr>\n",
       "  </thead>\n",
       "  <tbody>\n",
       "    <tr>\n",
       "      <th>1078</th>\n",
       "      <td>Plot  Area</td>\n",
       "      <td>BTM 1st Stage</td>\n",
       "      <td>9</td>\n",
       "      <td>3300.0</td>\n",
       "      <td>14</td>\n",
       "      <td>500.0</td>\n",
       "    </tr>\n",
       "    <tr>\n",
       "      <th>1953</th>\n",
       "      <td>Plot  Area</td>\n",
       "      <td>KR Puram</td>\n",
       "      <td>8</td>\n",
       "      <td>1200.0</td>\n",
       "      <td>12</td>\n",
       "      <td>110.0</td>\n",
       "    </tr>\n",
       "    <tr>\n",
       "      <th>1979</th>\n",
       "      <td>Plot  Area</td>\n",
       "      <td>Hongasandra</td>\n",
       "      <td>8</td>\n",
       "      <td>990.0</td>\n",
       "      <td>12</td>\n",
       "      <td>120.0</td>\n",
       "    </tr>\n",
       "    <tr>\n",
       "      <th>2620</th>\n",
       "      <td>Super built-up  Area</td>\n",
       "      <td>Sathya Sai Layout</td>\n",
       "      <td>6</td>\n",
       "      <td>11338.0</td>\n",
       "      <td>9</td>\n",
       "      <td>1000.0</td>\n",
       "    </tr>\n",
       "    <tr>\n",
       "      <th>6838</th>\n",
       "      <td>Super built-up  Area</td>\n",
       "      <td>Rajaji Nagar</td>\n",
       "      <td>5</td>\n",
       "      <td>7500.0</td>\n",
       "      <td>8</td>\n",
       "      <td>1700.0</td>\n",
       "    </tr>\n",
       "    <tr>\n",
       "      <th>6937</th>\n",
       "      <td>Plot  Area</td>\n",
       "      <td>5th Block Hbr Layout</td>\n",
       "      <td>9</td>\n",
       "      <td>2600.0</td>\n",
       "      <td>12</td>\n",
       "      <td>675.0</td>\n",
       "    </tr>\n",
       "    <tr>\n",
       "      <th>7709</th>\n",
       "      <td>Built-up  Area</td>\n",
       "      <td>Chikkabanavar</td>\n",
       "      <td>4</td>\n",
       "      <td>2460.0</td>\n",
       "      <td>7</td>\n",
       "      <td>80.0</td>\n",
       "    </tr>\n",
       "    <tr>\n",
       "      <th>8106</th>\n",
       "      <td>Plot  Area</td>\n",
       "      <td>Wilson Garden</td>\n",
       "      <td>8</td>\n",
       "      <td>1850.0</td>\n",
       "      <td>12</td>\n",
       "      <td>300.0</td>\n",
       "    </tr>\n",
       "    <tr>\n",
       "      <th>9974</th>\n",
       "      <td>Plot  Area</td>\n",
       "      <td>Sector 1 HSR Layout</td>\n",
       "      <td>3</td>\n",
       "      <td>2400.0</td>\n",
       "      <td>6</td>\n",
       "      <td>775.0</td>\n",
       "    </tr>\n",
       "    <tr>\n",
       "      <th>9990</th>\n",
       "      <td>Plot  Area</td>\n",
       "      <td>Doddakannelli</td>\n",
       "      <td>6</td>\n",
       "      <td>1200.0</td>\n",
       "      <td>9</td>\n",
       "      <td>122.0</td>\n",
       "    </tr>\n",
       "    <tr>\n",
       "      <th>10695</th>\n",
       "      <td>Plot  Area</td>\n",
       "      <td>Electronic City</td>\n",
       "      <td>9</td>\n",
       "      <td>1200.0</td>\n",
       "      <td>13</td>\n",
       "      <td>150.0</td>\n",
       "    </tr>\n",
       "    <tr>\n",
       "      <th>11366</th>\n",
       "      <td>Built-up  Area</td>\n",
       "      <td>Nagasandra</td>\n",
       "      <td>4</td>\n",
       "      <td>7000.0</td>\n",
       "      <td>8</td>\n",
       "      <td>450.0</td>\n",
       "    </tr>\n",
       "    <tr>\n",
       "      <th>11645</th>\n",
       "      <td>Plot  Area</td>\n",
       "      <td>Chamrajpet</td>\n",
       "      <td>6</td>\n",
       "      <td>1500.0</td>\n",
       "      <td>9</td>\n",
       "      <td>230.0</td>\n",
       "    </tr>\n",
       "    <tr>\n",
       "      <th>12103</th>\n",
       "      <td>Super built-up  Area</td>\n",
       "      <td>Thanisandra</td>\n",
       "      <td>3</td>\n",
       "      <td>1806.0</td>\n",
       "      <td>6</td>\n",
       "      <td>116.0</td>\n",
       "    </tr>\n",
       "    <tr>\n",
       "      <th>12443</th>\n",
       "      <td>Plot  Area</td>\n",
       "      <td>Dollars Colony</td>\n",
       "      <td>4</td>\n",
       "      <td>4350.0</td>\n",
       "      <td>8</td>\n",
       "      <td>2600.0</td>\n",
       "    </tr>\n",
       "    <tr>\n",
       "      <th>13067</th>\n",
       "      <td>Plot  Area</td>\n",
       "      <td>Defence Colony</td>\n",
       "      <td>10</td>\n",
       "      <td>7150.0</td>\n",
       "      <td>13</td>\n",
       "      <td>3600.0</td>\n",
       "    </tr>\n",
       "  </tbody>\n",
       "</table>\n",
       "</div>"
      ],
      "text/plain": [
       "                  area_type              location  size  total_sqft  bath  \\\n",
       "1078             Plot  Area         BTM 1st Stage     9      3300.0    14   \n",
       "1953             Plot  Area              KR Puram     8      1200.0    12   \n",
       "1979             Plot  Area           Hongasandra     8       990.0    12   \n",
       "2620   Super built-up  Area     Sathya Sai Layout     6     11338.0     9   \n",
       "6838   Super built-up  Area          Rajaji Nagar     5      7500.0     8   \n",
       "6937             Plot  Area  5th Block Hbr Layout     9      2600.0    12   \n",
       "7709         Built-up  Area         Chikkabanavar     4      2460.0     7   \n",
       "8106             Plot  Area         Wilson Garden     8      1850.0    12   \n",
       "9974             Plot  Area   Sector 1 HSR Layout     3      2400.0     6   \n",
       "9990             Plot  Area         Doddakannelli     6      1200.0     9   \n",
       "10695            Plot  Area       Electronic City     9      1200.0    13   \n",
       "11366        Built-up  Area            Nagasandra     4      7000.0     8   \n",
       "11645            Plot  Area            Chamrajpet     6      1500.0     9   \n",
       "12103  Super built-up  Area           Thanisandra     3      1806.0     6   \n",
       "12443            Plot  Area        Dollars Colony     4      4350.0     8   \n",
       "13067            Plot  Area        Defence Colony    10      7150.0    13   \n",
       "\n",
       "        price  \n",
       "1078    500.0  \n",
       "1953    110.0  \n",
       "1979    120.0  \n",
       "2620   1000.0  \n",
       "6838   1700.0  \n",
       "6937    675.0  \n",
       "7709     80.0  \n",
       "8106    300.0  \n",
       "9974    775.0  \n",
       "9990    122.0  \n",
       "10695   150.0  \n",
       "11366   450.0  \n",
       "11645   230.0  \n",
       "12103   116.0  \n",
       "12443  2600.0  \n",
       "13067  3600.0  "
      ]
     },
     "execution_count": 16,
     "metadata": {},
     "output_type": "execute_result"
    }
   ],
   "source": [
    "df_1\n",
    "\n",
    "#Its unusual to have bathrooms greater than BHK, which is incorrect data, we can drop these columns"
   ]
  },
  {
   "cell_type": "code",
   "execution_count": 17,
   "id": "88393e6f",
   "metadata": {},
   "outputs": [
    {
     "data": {
      "text/plain": [
       "<AxesSubplot:xlabel='bath', ylabel='size'>"
      ]
     },
     "execution_count": 17,
     "metadata": {},
     "output_type": "execute_result"
    },
    {
     "data": {
      "image/png": "[encoded data removed]",
      "text/plain": [
       "<Figure size 432x288 with 1 Axes>"
      ]
     },
     "metadata": {
      "needs_background": "light"
     },
     "output_type": "display_data"
    }
   ],
   "source": [
    "#Visualize bathroom w.r.t size\n",
    "\n",
    "sns.barplot(x=df['bath'],y=df['size'])"
   ]
  },
  {
   "cell_type": "code",
   "execution_count": 18,
   "id": "f6d3db0b",
   "metadata": {},
   "outputs": [],
   "source": [
    "df.drop(index=[2620,12103],axis=0,inplace=True)"
   ]
  },
  {
   "cell_type": "code",
   "execution_count": 19,
   "id": "c4a9e676",
   "metadata": {},
   "outputs": [],
   "source": [
    "#Finding the unique values for location:\n",
    "\n",
    "location_stats=df['location'].value_counts()\n",
    "\n",
    "#We could see some of the locations are one time occuring , we can keep a threshold where if location count is less than 10 , we can replace it as others"
   ]
  },
  {
   "cell_type": "code",
   "execution_count": 20,
   "id": "1cd81660",
   "metadata": {},
   "outputs": [
    {
     "data": {
      "text/plain": [
       "1298"
      ]
     },
     "execution_count": 20,
     "metadata": {},
     "output_type": "execute_result"
    }
   ],
   "source": [
    "df['location'].nunique()"
   ]
  },
  {
   "cell_type": "code",
   "execution_count": 21,
   "id": "61d57732",
   "metadata": {},
   "outputs": [],
   "source": [
    "df['location']=df['location'].apply(lambda x:\"Others\" if location_stats[x] <=10 else x)"
   ]
  },
  {
   "cell_type": "code",
   "execution_count": 22,
   "id": "fa611da7",
   "metadata": {},
   "outputs": [
    {
     "data": {
      "text/plain": [
       "Others                       2886\n",
       "Whitefield                    532\n",
       "Sarjapur  Road                392\n",
       "Electronic City               302\n",
       "Kanakpura Road                264\n",
       "                             ... \n",
       "Pattandur Agrahara             11\n",
       "2nd Phase Judicial Layout      11\n",
       "Bommenahalli                   11\n",
       "Marsur                         11\n",
       "LB Shastri Nagar               11\n",
       "Name: location, Length: 241, dtype: int64"
      ]
     },
     "execution_count": 22,
     "metadata": {},
     "output_type": "execute_result"
    }
   ],
   "source": [
    "df['location'].value_counts()"
   ]
  },
  {
   "cell_type": "code",
   "execution_count": 23,
   "id": "128a4d43",
   "metadata": {},
   "outputs": [
    {
     "data": {
      "text/plain": [
       "241"
      ]
     },
     "execution_count": 23,
     "metadata": {},
     "output_type": "execute_result"
    }
   ],
   "source": [
    "df['location'].nunique()"
   ]
  },
  {
   "cell_type": "code",
   "execution_count": 24,
   "id": "c4a8a71b",
   "metadata": {},
   "outputs": [
    {
     "data": {
      "text/html": [
       "<div>\n",
       "<style scoped>\n",
       "    .dataframe tbody tr th:only-of-type {\n",
       "        vertical-align: middle;\n",
       "    }\n",
       "\n",
       "    .dataframe tbody tr th {\n",
       "        vertical-align: top;\n",
       "    }\n",
       "\n",
       "    .dataframe thead th {\n",
       "        text-align: right;\n",
       "    }\n",
       "</style>\n",
       "<table border=\"1\" class=\"dataframe\">\n",
       "  <thead>\n",
       "    <tr style=\"text-align: right;\">\n",
       "      <th></th>\n",
       "      <th>area_type</th>\n",
       "      <th>location</th>\n",
       "      <th>size</th>\n",
       "      <th>total_sqft</th>\n",
       "      <th>bath</th>\n",
       "      <th>price</th>\n",
       "    </tr>\n",
       "  </thead>\n",
       "  <tbody>\n",
       "    <tr>\n",
       "      <th>0</th>\n",
       "      <td>Super built-up  Area</td>\n",
       "      <td>Electronic City Phase II</td>\n",
       "      <td>2</td>\n",
       "      <td>1056.0</td>\n",
       "      <td>2</td>\n",
       "      <td>39.07</td>\n",
       "    </tr>\n",
       "    <tr>\n",
       "      <th>1</th>\n",
       "      <td>Plot  Area</td>\n",
       "      <td>Chikka Tirupathi</td>\n",
       "      <td>4</td>\n",
       "      <td>2600.0</td>\n",
       "      <td>5</td>\n",
       "      <td>120.00</td>\n",
       "    </tr>\n",
       "  </tbody>\n",
       "</table>\n",
       "</div>"
      ],
      "text/plain": [
       "              area_type                  location  size  total_sqft  bath  \\\n",
       "0  Super built-up  Area  Electronic City Phase II     2      1056.0     2   \n",
       "1            Plot  Area          Chikka Tirupathi     4      2600.0     5   \n",
       "\n",
       "    price  \n",
       "0   39.07  \n",
       "1  120.00  "
      ]
     },
     "execution_count": 24,
     "metadata": {},
     "output_type": "execute_result"
    }
   ],
   "source": [
    "df.head(2)"
   ]
  },
  {
   "cell_type": "code",
   "execution_count": 25,
   "id": "ef1706ef",
   "metadata": {},
   "outputs": [
    {
     "data": {
      "text/plain": [
       "(13198, 6)"
      ]
     },
     "execution_count": 25,
     "metadata": {},
     "output_type": "execute_result"
    }
   ],
   "source": [
    "df.shape"
   ]
  },
  {
   "cell_type": "code",
   "execution_count": 26,
   "id": "50906786",
   "metadata": {},
   "outputs": [
    {
     "data": {
      "text/plain": [
       "count    13198.000000\n",
       "mean       112.208634\n",
       "std        148.987012\n",
       "min          8.000000\n",
       "0%           8.000000\n",
       "25%         50.000000\n",
       "50%         71.805000\n",
       "75%        120.000000\n",
       "85%        165.000000\n",
       "95%        320.000000\n",
       "100%      3600.000000\n",
       "max       3600.000000\n",
       "Name: price, dtype: float64"
      ]
     },
     "execution_count": 26,
     "metadata": {},
     "output_type": "execute_result"
    }
   ],
   "source": [
    "df['price'].describe(percentiles=[0,0.25,0.50,0.75,0.85,0.95,1])"
   ]
  },
  {
   "cell_type": "raw",
   "id": "91ad00b3",
   "metadata": {},
   "source": [
    "#Inference:Max price is 3600 , and median is 71 , mean is 112 , which means data is not far spread and its right skewed, 95% of data is within range 320 and 5% of data is with 320-3600"
   ]
  },
  {
   "cell_type": "code",
   "execution_count": 27,
   "id": "b135d76e",
   "metadata": {},
   "outputs": [
    {
     "name": "stderr",
     "output_type": "stream",
     "text": [
      "C:\\Users\\a0g0btd\\Anaconda3\\envs\\bglrhousepred\\lib\\site-packages\\seaborn\\distributions.py:2619: FutureWarning: `distplot` is a deprecated function and will be removed in a future version. Please adapt your code to use either `displot` (a figure-level function with similar flexibility) or `histplot` (an axes-level function for histograms).\n",
      "  warnings.warn(msg, FutureWarning)\n"
     ]
    },
    {
     "data": {
      "image/png": "[encoded data removed]",
      "text/plain": [
       "<Figure size 1440x2160 with 2 Axes>"
      ]
     },
     "metadata": {
      "needs_background": "light"
     },
     "output_type": "display_data"
    }
   ],
   "source": [
    "#Data Visualization\n",
    "\n",
    "plt.figure(figsize=(20,30))\n",
    "\n",
    "plt.subplot(3,1,1)\n",
    "sns.distplot(x=df['price'])\n",
    "plt.title(\"Distribution of price\")\n",
    "\n",
    "plt.subplot(3,1,2)\n",
    "sns.boxplot(y=df['price'])\n",
    "plt.title(\"spread of price\")\n",
    "\n",
    "plt.show()"
   ]
  },
  {
   "cell_type": "code",
   "execution_count": 28,
   "id": "ab6922e9",
   "metadata": {},
   "outputs": [],
   "source": [
    "#Compare BHK apartments with Price:\n",
    "\n",
    "def visualize(X,Y):\n",
    "    plt.figure(figsize=(20,30))\n",
    "\n",
    "    plt.subplot(3,1,1)\n",
    "    sns.countplot(x=df[X])\n",
    "    plt.title(\"Count of {}\".format(X))\n",
    "\n",
    "    plt.subplot(3,1,2)\n",
    "    sns.boxplot(x=df[X],y=df[Y])\n",
    "    plt.title(\"comparison of {} w.r.t {}\".format(X,Y))\n",
    "\n",
    "\n",
    "    dft=pd.DataFrame(df.groupby([X])[Y].mean())\n",
    "    dft.plot(kind='barh',figsize=(15, 10))\n",
    "    plt.title(\"comparison of {} w.r.t {}\".format(X,Y))\n",
    "\n",
    "\n",
    "    plt.show()"
   ]
  },
  {
   "cell_type": "code",
   "execution_count": 29,
   "id": "b2da86a1",
   "metadata": {},
   "outputs": [
    {
     "data": {
      "image/png": "[encoded data removed]",
      "text/plain": [
       "<Figure size 1440x2160 with 2 Axes>"
      ]
     },
     "metadata": {
      "needs_background": "light"
     },
     "output_type": "display_data"
    },
    {
     "data": {
      "image/png": "[encoded data removed]",
      "text/plain": [
       "<Figure size 1080x720 with 1 Axes>"
      ]
     },
     "metadata": {
      "needs_background": "light"
     },
     "output_type": "display_data"
    }
   ],
   "source": [
    "visualize('size','price')"
   ]
  },
  {
   "cell_type": "raw",
   "id": "9d7b490e",
   "metadata": {},
   "source": [
    "#Inference:\n",
    "\n",
    "1.Size greater than 10 are occuring only once , so the average price is shown in bar chart, but we could see some of the outliers with respect to size 5,6,7,8,9 as they are increasing proportionally.5bhk price is more than 6 bhk which is incorrect.so we have to remove the outliers"
   ]
  },
  {
   "cell_type": "code",
   "execution_count": 30,
   "id": "1b4313c8",
   "metadata": {},
   "outputs": [
    {
     "data": {
      "image/png": "[encoded data removed]",
      "text/plain": [
       "<Figure size 1440x2160 with 2 Axes>"
      ]
     },
     "metadata": {
      "needs_background": "light"
     },
     "output_type": "display_data"
    },
    {
     "data": {
      "image/png": "[encoded data removed]",
      "text/plain": [
       "<Figure size 1080x720 with 1 Axes>"
      ]
     },
     "metadata": {
      "needs_background": "light"
     },
     "output_type": "display_data"
    }
   ],
   "source": [
    "visualize('bath','size')"
   ]
  },
  {
   "cell_type": "code",
   "execution_count": 31,
   "id": "f2616099",
   "metadata": {},
   "outputs": [
    {
     "data": {
      "text/plain": [
       "Text(0.5, 1.0, 'scatterness of sqft w.r.t price')"
      ]
     },
     "execution_count": 31,
     "metadata": {},
     "output_type": "execute_result"
    },
    {
     "data": {
      "image/png": "[encoded data removed]",
      "text/plain": [
       "<Figure size 1440x2160 with 1 Axes>"
      ]
     },
     "metadata": {
      "needs_background": "light"
     },
     "output_type": "display_data"
    }
   ],
   "source": [
    "plt.figure(figsize=(20,30))\n",
    "\n",
    "sns.scatterplot(x=df['total_sqft'],y=df['price'])\n",
    "plt.title(\"scatterness of sqft w.r.t price\")"
   ]
  },
  {
   "cell_type": "code",
   "execution_count": 32,
   "id": "624868c1",
   "metadata": {},
   "outputs": [],
   "source": [
    "#Inference: total_sqft is exponentially linear to price , but we could observe some outliers for 20,000,30,000,50,000 sqft the price is very low"
   ]
  },
  {
   "cell_type": "code",
   "execution_count": 33,
   "id": "24686437",
   "metadata": {},
   "outputs": [
    {
     "data": {
      "text/plain": [
       "Text(0.5, 1.0, 'scatterness of sqft w.r.t price')"
      ]
     },
     "execution_count": 33,
     "metadata": {},
     "output_type": "execute_result"
    },
    {
     "data": {
      "image/png": "[encoded data removed]",
      "text/plain": [
       "<Figure size 1440x2160 with 1 Axes>"
      ]
     },
     "metadata": {
      "needs_background": "light"
     },
     "output_type": "display_data"
    }
   ],
   "source": [
    "plt.figure(figsize=(20,30))\n",
    "\n",
    "sns.scatterplot(x=df['total_sqft'],y=df['size'])\n",
    "plt.title(\"scatterness of sqft w.r.t price\")"
   ]
  },
  {
   "cell_type": "code",
   "execution_count": 34,
   "id": "f67785ed",
   "metadata": {},
   "outputs": [],
   "source": [
    "#Inference : 1 to 10 bhk apartments have sqft greater than 50,000 which is an outlier."
   ]
  },
  {
   "cell_type": "code",
   "execution_count": 35,
   "id": "4593c3a7",
   "metadata": {},
   "outputs": [],
   "source": [
    "df['price_per_sqft']=round((df['price']/df['total_sqft'])*100000)"
   ]
  },
  {
   "cell_type": "code",
   "execution_count": 36,
   "id": "3715aa52",
   "metadata": {},
   "outputs": [
    {
     "data": {
      "text/html": [
       "<div>\n",
       "<style scoped>\n",
       "    .dataframe tbody tr th:only-of-type {\n",
       "        vertical-align: middle;\n",
       "    }\n",
       "\n",
       "    .dataframe tbody tr th {\n",
       "        vertical-align: top;\n",
       "    }\n",
       "\n",
       "    .dataframe thead th {\n",
       "        text-align: right;\n",
       "    }\n",
       "</style>\n",
       "<table border=\"1\" class=\"dataframe\">\n",
       "  <thead>\n",
       "    <tr style=\"text-align: right;\">\n",
       "      <th></th>\n",
       "      <th>area_type</th>\n",
       "      <th>location</th>\n",
       "      <th>size</th>\n",
       "      <th>total_sqft</th>\n",
       "      <th>bath</th>\n",
       "      <th>price</th>\n",
       "      <th>price_per_sqft</th>\n",
       "    </tr>\n",
       "  </thead>\n",
       "  <tbody>\n",
       "    <tr>\n",
       "      <th>0</th>\n",
       "      <td>Super built-up  Area</td>\n",
       "      <td>Electronic City Phase II</td>\n",
       "      <td>2</td>\n",
       "      <td>1056.0</td>\n",
       "      <td>2</td>\n",
       "      <td>39.07</td>\n",
       "      <td>3700.0</td>\n",
       "    </tr>\n",
       "    <tr>\n",
       "      <th>1</th>\n",
       "      <td>Plot  Area</td>\n",
       "      <td>Chikka Tirupathi</td>\n",
       "      <td>4</td>\n",
       "      <td>2600.0</td>\n",
       "      <td>5</td>\n",
       "      <td>120.00</td>\n",
       "      <td>4615.0</td>\n",
       "    </tr>\n",
       "    <tr>\n",
       "      <th>2</th>\n",
       "      <td>Built-up  Area</td>\n",
       "      <td>Uttarahalli</td>\n",
       "      <td>3</td>\n",
       "      <td>1440.0</td>\n",
       "      <td>2</td>\n",
       "      <td>62.00</td>\n",
       "      <td>4306.0</td>\n",
       "    </tr>\n",
       "    <tr>\n",
       "      <th>3</th>\n",
       "      <td>Super built-up  Area</td>\n",
       "      <td>Lingadheeranahalli</td>\n",
       "      <td>3</td>\n",
       "      <td>1521.0</td>\n",
       "      <td>3</td>\n",
       "      <td>95.00</td>\n",
       "      <td>6246.0</td>\n",
       "    </tr>\n",
       "    <tr>\n",
       "      <th>4</th>\n",
       "      <td>Super built-up  Area</td>\n",
       "      <td>Kothanur</td>\n",
       "      <td>2</td>\n",
       "      <td>1200.0</td>\n",
       "      <td>2</td>\n",
       "      <td>51.00</td>\n",
       "      <td>4250.0</td>\n",
       "    </tr>\n",
       "  </tbody>\n",
       "</table>\n",
       "</div>"
      ],
      "text/plain": [
       "              area_type                  location  size  total_sqft  bath  \\\n",
       "0  Super built-up  Area  Electronic City Phase II     2      1056.0     2   \n",
       "1            Plot  Area          Chikka Tirupathi     4      2600.0     5   \n",
       "2        Built-up  Area               Uttarahalli     3      1440.0     2   \n",
       "3  Super built-up  Area        Lingadheeranahalli     3      1521.0     3   \n",
       "4  Super built-up  Area                  Kothanur     2      1200.0     2   \n",
       "\n",
       "    price  price_per_sqft  \n",
       "0   39.07          3700.0  \n",
       "1  120.00          4615.0  \n",
       "2   62.00          4306.0  \n",
       "3   95.00          6246.0  \n",
       "4   51.00          4250.0  "
      ]
     },
     "execution_count": 36,
     "metadata": {},
     "output_type": "execute_result"
    }
   ],
   "source": [
    "df.head()"
   ]
  },
  {
   "cell_type": "code",
   "execution_count": 37,
   "id": "43d24c69",
   "metadata": {},
   "outputs": [
    {
     "data": {
      "text/html": [
       "<div>\n",
       "<style scoped>\n",
       "    .dataframe tbody tr th:only-of-type {\n",
       "        vertical-align: middle;\n",
       "    }\n",
       "\n",
       "    .dataframe tbody tr th {\n",
       "        vertical-align: top;\n",
       "    }\n",
       "\n",
       "    .dataframe thead th {\n",
       "        text-align: right;\n",
       "    }\n",
       "</style>\n",
       "<table border=\"1\" class=\"dataframe\">\n",
       "  <thead>\n",
       "    <tr style=\"text-align: right;\">\n",
       "      <th></th>\n",
       "      <th>area_type</th>\n",
       "      <th>location</th>\n",
       "      <th>size</th>\n",
       "      <th>total_sqft</th>\n",
       "      <th>bath</th>\n",
       "      <th>price</th>\n",
       "      <th>price_per_sqft</th>\n",
       "    </tr>\n",
       "  </thead>\n",
       "  <tbody>\n",
       "    <tr>\n",
       "      <th>9</th>\n",
       "      <td>Plot  Area</td>\n",
       "      <td>Others</td>\n",
       "      <td>6</td>\n",
       "      <td>1020.0</td>\n",
       "      <td>6</td>\n",
       "      <td>370.0</td>\n",
       "      <td>36275.0</td>\n",
       "    </tr>\n",
       "    <tr>\n",
       "      <th>45</th>\n",
       "      <td>Plot  Area</td>\n",
       "      <td>HSR Layout</td>\n",
       "      <td>8</td>\n",
       "      <td>600.0</td>\n",
       "      <td>9</td>\n",
       "      <td>200.0</td>\n",
       "      <td>33333.0</td>\n",
       "    </tr>\n",
       "    <tr>\n",
       "      <th>58</th>\n",
       "      <td>Plot  Area</td>\n",
       "      <td>Murugeshpalya</td>\n",
       "      <td>6</td>\n",
       "      <td>1407.0</td>\n",
       "      <td>4</td>\n",
       "      <td>150.0</td>\n",
       "      <td>10661.0</td>\n",
       "    </tr>\n",
       "    <tr>\n",
       "      <th>68</th>\n",
       "      <td>Plot  Area</td>\n",
       "      <td>Others</td>\n",
       "      <td>8</td>\n",
       "      <td>1350.0</td>\n",
       "      <td>7</td>\n",
       "      <td>85.0</td>\n",
       "      <td>6296.0</td>\n",
       "    </tr>\n",
       "    <tr>\n",
       "      <th>70</th>\n",
       "      <td>Plot  Area</td>\n",
       "      <td>Others</td>\n",
       "      <td>3</td>\n",
       "      <td>500.0</td>\n",
       "      <td>3</td>\n",
       "      <td>100.0</td>\n",
       "      <td>20000.0</td>\n",
       "    </tr>\n",
       "    <tr>\n",
       "      <th>...</th>\n",
       "      <td>...</td>\n",
       "      <td>...</td>\n",
       "      <td>...</td>\n",
       "      <td>...</td>\n",
       "      <td>...</td>\n",
       "      <td>...</td>\n",
       "      <td>...</td>\n",
       "    </tr>\n",
       "    <tr>\n",
       "      <th>13277</th>\n",
       "      <td>Plot  Area</td>\n",
       "      <td>Others</td>\n",
       "      <td>7</td>\n",
       "      <td>1400.0</td>\n",
       "      <td>7</td>\n",
       "      <td>218.0</td>\n",
       "      <td>15571.0</td>\n",
       "    </tr>\n",
       "    <tr>\n",
       "      <th>13279</th>\n",
       "      <td>Plot  Area</td>\n",
       "      <td>Others</td>\n",
       "      <td>6</td>\n",
       "      <td>1200.0</td>\n",
       "      <td>5</td>\n",
       "      <td>130.0</td>\n",
       "      <td>10833.0</td>\n",
       "    </tr>\n",
       "    <tr>\n",
       "      <th>13281</th>\n",
       "      <td>Plot  Area</td>\n",
       "      <td>Margondanahalli</td>\n",
       "      <td>5</td>\n",
       "      <td>1375.0</td>\n",
       "      <td>5</td>\n",
       "      <td>125.0</td>\n",
       "      <td>9091.0</td>\n",
       "    </tr>\n",
       "    <tr>\n",
       "      <th>13303</th>\n",
       "      <td>Plot  Area</td>\n",
       "      <td>Vidyaranyapura</td>\n",
       "      <td>5</td>\n",
       "      <td>774.0</td>\n",
       "      <td>5</td>\n",
       "      <td>70.0</td>\n",
       "      <td>9044.0</td>\n",
       "    </tr>\n",
       "    <tr>\n",
       "      <th>13311</th>\n",
       "      <td>Plot  Area</td>\n",
       "      <td>Ramamurthy Nagar</td>\n",
       "      <td>7</td>\n",
       "      <td>1500.0</td>\n",
       "      <td>9</td>\n",
       "      <td>250.0</td>\n",
       "      <td>16667.0</td>\n",
       "    </tr>\n",
       "  </tbody>\n",
       "</table>\n",
       "<p>744 rows × 7 columns</p>\n",
       "</div>"
      ],
      "text/plain": [
       "        area_type          location  size  total_sqft  bath  price  \\\n",
       "9      Plot  Area            Others     6      1020.0     6  370.0   \n",
       "45     Plot  Area        HSR Layout     8       600.0     9  200.0   \n",
       "58     Plot  Area     Murugeshpalya     6      1407.0     4  150.0   \n",
       "68     Plot  Area            Others     8      1350.0     7   85.0   \n",
       "70     Plot  Area            Others     3       500.0     3  100.0   \n",
       "...           ...               ...   ...         ...   ...    ...   \n",
       "13277  Plot  Area            Others     7      1400.0     7  218.0   \n",
       "13279  Plot  Area            Others     6      1200.0     5  130.0   \n",
       "13281  Plot  Area   Margondanahalli     5      1375.0     5  125.0   \n",
       "13303  Plot  Area    Vidyaranyapura     5       774.0     5   70.0   \n",
       "13311  Plot  Area  Ramamurthy Nagar     7      1500.0     9  250.0   \n",
       "\n",
       "       price_per_sqft  \n",
       "9             36275.0  \n",
       "45            33333.0  \n",
       "58            10661.0  \n",
       "68             6296.0  \n",
       "70            20000.0  \n",
       "...               ...  \n",
       "13277         15571.0  \n",
       "13279         10833.0  \n",
       "13281          9091.0  \n",
       "13303          9044.0  \n",
       "13311         16667.0  \n",
       "\n",
       "[744 rows x 7 columns]"
      ]
     },
     "execution_count": 37,
     "metadata": {},
     "output_type": "execute_result"
    }
   ],
   "source": [
    "#Removing outliers for total_sqft w.r.t to price\n",
    "\n",
    "df5=df[df['total_sqft']/df['size']<300]\n",
    "df5"
   ]
  },
  {
   "cell_type": "code",
   "execution_count": 38,
   "id": "e0c2a3e6",
   "metadata": {},
   "outputs": [
    {
     "data": {
      "text/plain": [
       "(12454, 7)"
      ]
     },
     "execution_count": 38,
     "metadata": {},
     "output_type": "execute_result"
    }
   ],
   "source": [
    "# 6 bhk cannot have 1020 sqft which does not makes sense, so we can drop these columns\n",
    "\n",
    "df=df[~(df5['total_sqft']/df['size']<300)]\n",
    "df.shape"
   ]
  },
  {
   "cell_type": "code",
   "execution_count": 39,
   "id": "f9c9f0fe",
   "metadata": {},
   "outputs": [],
   "source": [
    "# Scatter plot to determine outliers for bhk with price\n",
    "def scatter_plot(df,location,bhk1,bhk2):\n",
    "    plt.figure(figsize=(20,20))\n",
    "    sc1=df[(df['location']==location) & (df['size']==bhk1)]\n",
    "    sc2=df[(df['location']==location) & (df['size']==bhk2)]\n",
    "    \n",
    "    \n",
    "    sns.scatterplot(x=sc1['total_sqft'],y=sc1['price'],marker='*',color='red',s=100,label=bhk1)\n",
    "    sns.scatterplot(x=sc2['total_sqft'],y=sc2['price'],marker='+',color='green',s=100,label=bhk2)\n",
    "    \n",
    "    plt.title(\" comparison of price w.r.t BHK total sqft\")\n",
    "    plt.legend()\n",
    "    plt.show()    "
   ]
  },
  {
   "cell_type": "code",
   "execution_count": 40,
   "id": "18ce11ca",
   "metadata": {},
   "outputs": [
    {
     "data": {
      "image/png": "[encoded data removed]",
      "text/plain": [
       "<Figure size 1440x1440 with 1 Axes>"
      ]
     },
     "metadata": {
      "needs_background": "light"
     },
     "output_type": "display_data"
    }
   ],
   "source": [
    "scatter_plot(df,\"Rajaji Nagar\",2,3)\n"
   ]
  },
  {
   "cell_type": "code",
   "execution_count": 41,
   "id": "68c91407",
   "metadata": {},
   "outputs": [
    {
     "data": {
      "text/plain": [
       "(10243, 7)"
      ]
     },
     "execution_count": 41,
     "metadata": {},
     "output_type": "execute_result"
    }
   ],
   "source": [
    "#outlier removal using std and mean\n",
    "\n",
    "def outlier_removal(data):\n",
    "    data_out=pd.DataFrame()\n",
    "    for key,grp in data.groupby('location'):\n",
    "        m=np.mean(grp['price_per_sqft'])\n",
    "        st=np.std(grp['price_per_sqft'])\n",
    "        reduced_data=grp[(grp['price_per_sqft']>(m-st)) & (grp['price_per_sqft']<(m+st))]\n",
    "        data_out=pd.concat([data_out,reduced_data],ignore_index=True)\n",
    "    return data_out\n",
    "\n",
    "df_out=outlier_removal(df)\n",
    "df_out.shape"
   ]
  },
  {
   "cell_type": "code",
   "execution_count": 42,
   "id": "4ef7b052",
   "metadata": {},
   "outputs": [
    {
     "data": {
      "text/plain": [
       "(7332, 7)"
      ]
     },
     "execution_count": 42,
     "metadata": {},
     "output_type": "execute_result"
    }
   ],
   "source": [
    "#Removing outliers in size columns whose price_per_sqft is less than their lower size:\n",
    "def bkh_outliers(df_out):\n",
    "    exclude_indices=np.array([])\n",
    "    for location, location_df in df_out.groupby('location'):\n",
    "        bhk_stats={}\n",
    "        for bhk,bhk_df in location_df.groupby('size'):\n",
    "            bhk_stats[bhk]={\n",
    "                'mean':(bhk_df['price_per_sqft']).mean(),\n",
    "                'std':(bhk_df['price_per_sqft']).std(),\n",
    "                'count':(bhk_df['price_per_sqft'].shape[0])\n",
    "                }\n",
    "        for bhk, bhk_df in location_df.groupby('size'):\n",
    "            stats = bhk_stats.get(bhk-1)\n",
    "            if stats and stats['count']>5:\n",
    "                exclude_indices=np.append(exclude_indices,bhk_df[bhk_df['price_per_sqft']<(stats['mean'])].index.values)\n",
    "    return df_out.drop(exclude_indices,axis='index')\n",
    "df_=bkh_outliers(df_out)\n",
    "df_.shape"
   ]
  },
  {
   "cell_type": "code",
   "execution_count": 43,
   "id": "18a40edb",
   "metadata": {},
   "outputs": [
    {
     "data": {
      "image/png": "[encoded data removed]",
      "text/plain": [
       "<Figure size 1440x1440 with 1 Axes>"
      ]
     },
     "metadata": {
      "needs_background": "light"
     },
     "output_type": "display_data"
    }
   ],
   "source": [
    "scatter_plot(df,\"Rajaji Nagar\",2,3)"
   ]
  },
  {
   "cell_type": "code",
   "execution_count": 44,
   "id": "a202cde7",
   "metadata": {},
   "outputs": [],
   "source": [
    "df_.drop(columns=['price_per_sqft'],axis=1,inplace=True)"
   ]
  },
  {
   "cell_type": "code",
   "execution_count": 45,
   "id": "1a379549",
   "metadata": {},
   "outputs": [
    {
     "data": {
      "text/plain": [
       "<AxesSubplot:>"
      ]
     },
     "execution_count": 45,
     "metadata": {},
     "output_type": "execute_result"
    },
    {
     "data": {
      "image/png": "[encoded data removed]",
      "text/plain": [
       "<Figure size 1440x1440 with 2 Axes>"
      ]
     },
     "metadata": {
      "needs_background": "light"
     },
     "output_type": "display_data"
    }
   ],
   "source": [
    "#Heat map to find corelation:\n",
    "\n",
    "plt.figure(figsize=(20,20))\n",
    "sns.heatmap(df_.corr(),vmin=-1,vmax=+1,annot=True)"
   ]
  },
  {
   "cell_type": "code",
   "execution_count": 46,
   "id": "83388d94",
   "metadata": {},
   "outputs": [],
   "source": [
    "#All features are correalted with target variable"
   ]
  },
  {
   "cell_type": "code",
   "execution_count": 47,
   "id": "57f152fd",
   "metadata": {},
   "outputs": [],
   "source": [
    "# Applying one hot encoding for categorical variables:\n",
    "\n",
    "area_type=pd.get_dummies(df_['area_type'],drop_first=False)\n",
    "location_dummy=pd.get_dummies(df_['location'],drop_first=False)"
   ]
  },
  {
   "cell_type": "code",
   "execution_count": 48,
   "id": "be798fcf",
   "metadata": {},
   "outputs": [
    {
     "data": {
      "text/html": [
       "<div>\n",
       "<style scoped>\n",
       "    .dataframe tbody tr th:only-of-type {\n",
       "        vertical-align: middle;\n",
       "    }\n",
       "\n",
       "    .dataframe tbody tr th {\n",
       "        vertical-align: top;\n",
       "    }\n",
       "\n",
       "    .dataframe thead th {\n",
       "        text-align: right;\n",
       "    }\n",
       "</style>\n",
       "<table border=\"1\" class=\"dataframe\">\n",
       "  <thead>\n",
       "    <tr style=\"text-align: right;\">\n",
       "      <th></th>\n",
       "      <th>Built-up  Area</th>\n",
       "      <th>Carpet  Area</th>\n",
       "      <th>Plot  Area</th>\n",
       "      <th>Super built-up  Area</th>\n",
       "    </tr>\n",
       "  </thead>\n",
       "  <tbody>\n",
       "    <tr>\n",
       "      <th>1</th>\n",
       "      <td>0</td>\n",
       "      <td>0</td>\n",
       "      <td>0</td>\n",
       "      <td>1</td>\n",
       "    </tr>\n",
       "    <tr>\n",
       "      <th>2</th>\n",
       "      <td>0</td>\n",
       "      <td>0</td>\n",
       "      <td>1</td>\n",
       "      <td>0</td>\n",
       "    </tr>\n",
       "    <tr>\n",
       "      <th>3</th>\n",
       "      <td>0</td>\n",
       "      <td>0</td>\n",
       "      <td>0</td>\n",
       "      <td>1</td>\n",
       "    </tr>\n",
       "    <tr>\n",
       "      <th>4</th>\n",
       "      <td>0</td>\n",
       "      <td>0</td>\n",
       "      <td>0</td>\n",
       "      <td>1</td>\n",
       "    </tr>\n",
       "    <tr>\n",
       "      <th>5</th>\n",
       "      <td>0</td>\n",
       "      <td>0</td>\n",
       "      <td>0</td>\n",
       "      <td>1</td>\n",
       "    </tr>\n",
       "    <tr>\n",
       "      <th>...</th>\n",
       "      <td>...</td>\n",
       "      <td>...</td>\n",
       "      <td>...</td>\n",
       "      <td>...</td>\n",
       "    </tr>\n",
       "    <tr>\n",
       "      <th>10232</th>\n",
       "      <td>0</td>\n",
       "      <td>0</td>\n",
       "      <td>0</td>\n",
       "      <td>1</td>\n",
       "    </tr>\n",
       "    <tr>\n",
       "      <th>10233</th>\n",
       "      <td>0</td>\n",
       "      <td>0</td>\n",
       "      <td>0</td>\n",
       "      <td>1</td>\n",
       "    </tr>\n",
       "    <tr>\n",
       "      <th>10235</th>\n",
       "      <td>1</td>\n",
       "      <td>0</td>\n",
       "      <td>0</td>\n",
       "      <td>0</td>\n",
       "    </tr>\n",
       "    <tr>\n",
       "      <th>10240</th>\n",
       "      <td>0</td>\n",
       "      <td>0</td>\n",
       "      <td>0</td>\n",
       "      <td>1</td>\n",
       "    </tr>\n",
       "    <tr>\n",
       "      <th>10241</th>\n",
       "      <td>0</td>\n",
       "      <td>0</td>\n",
       "      <td>0</td>\n",
       "      <td>1</td>\n",
       "    </tr>\n",
       "  </tbody>\n",
       "</table>\n",
       "<p>7332 rows × 4 columns</p>\n",
       "</div>"
      ],
      "text/plain": [
       "       Built-up  Area  Carpet  Area  Plot  Area  Super built-up  Area\n",
       "1                   0             0           0                     1\n",
       "2                   0             0           1                     0\n",
       "3                   0             0           0                     1\n",
       "4                   0             0           0                     1\n",
       "5                   0             0           0                     1\n",
       "...               ...           ...         ...                   ...\n",
       "10232               0             0           0                     1\n",
       "10233               0             0           0                     1\n",
       "10235               1             0           0                     0\n",
       "10240               0             0           0                     1\n",
       "10241               0             0           0                     1\n",
       "\n",
       "[7332 rows x 4 columns]"
      ]
     },
     "execution_count": 48,
     "metadata": {},
     "output_type": "execute_result"
    }
   ],
   "source": [
    "area_type\n"
   ]
  },
  {
   "cell_type": "code",
   "execution_count": 49,
   "id": "19d47109",
   "metadata": {},
   "outputs": [
    {
     "data": {
      "text/html": [
       "<div>\n",
       "<style scoped>\n",
       "    .dataframe tbody tr th:only-of-type {\n",
       "        vertical-align: middle;\n",
       "    }\n",
       "\n",
       "    .dataframe tbody tr th {\n",
       "        vertical-align: top;\n",
       "    }\n",
       "\n",
       "    .dataframe thead th {\n",
       "        text-align: right;\n",
       "    }\n",
       "</style>\n",
       "<table border=\"1\" class=\"dataframe\">\n",
       "  <thead>\n",
       "    <tr style=\"text-align: right;\">\n",
       "      <th></th>\n",
       "      <th>Devarachikkanahalli</th>\n",
       "      <th>1st Block Jayanagar</th>\n",
       "      <th>1st Phase JP Nagar</th>\n",
       "      <th>2nd Phase Judicial Layout</th>\n",
       "      <th>2nd Stage Nagarbhavi</th>\n",
       "      <th>5th Block Hbr Layout</th>\n",
       "      <th>5th Phase JP Nagar</th>\n",
       "      <th>6th Phase JP Nagar</th>\n",
       "      <th>7th Phase JP Nagar</th>\n",
       "      <th>8th Phase JP Nagar</th>\n",
       "      <th>...</th>\n",
       "      <th>Vijayanagar</th>\n",
       "      <th>Vishveshwarya Layout</th>\n",
       "      <th>Vishwapriya Layout</th>\n",
       "      <th>Vittasandra</th>\n",
       "      <th>Whitefield</th>\n",
       "      <th>Yelachenahalli</th>\n",
       "      <th>Yelahanka</th>\n",
       "      <th>Yelahanka New Town</th>\n",
       "      <th>Yelenahalli</th>\n",
       "      <th>Yeshwanthpur</th>\n",
       "    </tr>\n",
       "  </thead>\n",
       "  <tbody>\n",
       "    <tr>\n",
       "      <th>1</th>\n",
       "      <td>1</td>\n",
       "      <td>0</td>\n",
       "      <td>0</td>\n",
       "      <td>0</td>\n",
       "      <td>0</td>\n",
       "      <td>0</td>\n",
       "      <td>0</td>\n",
       "      <td>0</td>\n",
       "      <td>0</td>\n",
       "      <td>0</td>\n",
       "      <td>...</td>\n",
       "      <td>0</td>\n",
       "      <td>0</td>\n",
       "      <td>0</td>\n",
       "      <td>0</td>\n",
       "      <td>0</td>\n",
       "      <td>0</td>\n",
       "      <td>0</td>\n",
       "      <td>0</td>\n",
       "      <td>0</td>\n",
       "      <td>0</td>\n",
       "    </tr>\n",
       "    <tr>\n",
       "      <th>2</th>\n",
       "      <td>1</td>\n",
       "      <td>0</td>\n",
       "      <td>0</td>\n",
       "      <td>0</td>\n",
       "      <td>0</td>\n",
       "      <td>0</td>\n",
       "      <td>0</td>\n",
       "      <td>0</td>\n",
       "      <td>0</td>\n",
       "      <td>0</td>\n",
       "      <td>...</td>\n",
       "      <td>0</td>\n",
       "      <td>0</td>\n",
       "      <td>0</td>\n",
       "      <td>0</td>\n",
       "      <td>0</td>\n",
       "      <td>0</td>\n",
       "      <td>0</td>\n",
       "      <td>0</td>\n",
       "      <td>0</td>\n",
       "      <td>0</td>\n",
       "    </tr>\n",
       "    <tr>\n",
       "      <th>3</th>\n",
       "      <td>1</td>\n",
       "      <td>0</td>\n",
       "      <td>0</td>\n",
       "      <td>0</td>\n",
       "      <td>0</td>\n",
       "      <td>0</td>\n",
       "      <td>0</td>\n",
       "      <td>0</td>\n",
       "      <td>0</td>\n",
       "      <td>0</td>\n",
       "      <td>...</td>\n",
       "      <td>0</td>\n",
       "      <td>0</td>\n",
       "      <td>0</td>\n",
       "      <td>0</td>\n",
       "      <td>0</td>\n",
       "      <td>0</td>\n",
       "      <td>0</td>\n",
       "      <td>0</td>\n",
       "      <td>0</td>\n",
       "      <td>0</td>\n",
       "    </tr>\n",
       "    <tr>\n",
       "      <th>4</th>\n",
       "      <td>1</td>\n",
       "      <td>0</td>\n",
       "      <td>0</td>\n",
       "      <td>0</td>\n",
       "      <td>0</td>\n",
       "      <td>0</td>\n",
       "      <td>0</td>\n",
       "      <td>0</td>\n",
       "      <td>0</td>\n",
       "      <td>0</td>\n",
       "      <td>...</td>\n",
       "      <td>0</td>\n",
       "      <td>0</td>\n",
       "      <td>0</td>\n",
       "      <td>0</td>\n",
       "      <td>0</td>\n",
       "      <td>0</td>\n",
       "      <td>0</td>\n",
       "      <td>0</td>\n",
       "      <td>0</td>\n",
       "      <td>0</td>\n",
       "    </tr>\n",
       "    <tr>\n",
       "      <th>5</th>\n",
       "      <td>1</td>\n",
       "      <td>0</td>\n",
       "      <td>0</td>\n",
       "      <td>0</td>\n",
       "      <td>0</td>\n",
       "      <td>0</td>\n",
       "      <td>0</td>\n",
       "      <td>0</td>\n",
       "      <td>0</td>\n",
       "      <td>0</td>\n",
       "      <td>...</td>\n",
       "      <td>0</td>\n",
       "      <td>0</td>\n",
       "      <td>0</td>\n",
       "      <td>0</td>\n",
       "      <td>0</td>\n",
       "      <td>0</td>\n",
       "      <td>0</td>\n",
       "      <td>0</td>\n",
       "      <td>0</td>\n",
       "      <td>0</td>\n",
       "    </tr>\n",
       "    <tr>\n",
       "      <th>...</th>\n",
       "      <td>...</td>\n",
       "      <td>...</td>\n",
       "      <td>...</td>\n",
       "      <td>...</td>\n",
       "      <td>...</td>\n",
       "      <td>...</td>\n",
       "      <td>...</td>\n",
       "      <td>...</td>\n",
       "      <td>...</td>\n",
       "      <td>...</td>\n",
       "      <td>...</td>\n",
       "      <td>...</td>\n",
       "      <td>...</td>\n",
       "      <td>...</td>\n",
       "      <td>...</td>\n",
       "      <td>...</td>\n",
       "      <td>...</td>\n",
       "      <td>...</td>\n",
       "      <td>...</td>\n",
       "      <td>...</td>\n",
       "      <td>...</td>\n",
       "    </tr>\n",
       "    <tr>\n",
       "      <th>10232</th>\n",
       "      <td>0</td>\n",
       "      <td>0</td>\n",
       "      <td>0</td>\n",
       "      <td>0</td>\n",
       "      <td>0</td>\n",
       "      <td>0</td>\n",
       "      <td>0</td>\n",
       "      <td>0</td>\n",
       "      <td>0</td>\n",
       "      <td>0</td>\n",
       "      <td>...</td>\n",
       "      <td>0</td>\n",
       "      <td>0</td>\n",
       "      <td>0</td>\n",
       "      <td>0</td>\n",
       "      <td>0</td>\n",
       "      <td>0</td>\n",
       "      <td>0</td>\n",
       "      <td>0</td>\n",
       "      <td>0</td>\n",
       "      <td>1</td>\n",
       "    </tr>\n",
       "    <tr>\n",
       "      <th>10233</th>\n",
       "      <td>0</td>\n",
       "      <td>0</td>\n",
       "      <td>0</td>\n",
       "      <td>0</td>\n",
       "      <td>0</td>\n",
       "      <td>0</td>\n",
       "      <td>0</td>\n",
       "      <td>0</td>\n",
       "      <td>0</td>\n",
       "      <td>0</td>\n",
       "      <td>...</td>\n",
       "      <td>0</td>\n",
       "      <td>0</td>\n",
       "      <td>0</td>\n",
       "      <td>0</td>\n",
       "      <td>0</td>\n",
       "      <td>0</td>\n",
       "      <td>0</td>\n",
       "      <td>0</td>\n",
       "      <td>0</td>\n",
       "      <td>1</td>\n",
       "    </tr>\n",
       "    <tr>\n",
       "      <th>10235</th>\n",
       "      <td>0</td>\n",
       "      <td>0</td>\n",
       "      <td>0</td>\n",
       "      <td>0</td>\n",
       "      <td>0</td>\n",
       "      <td>0</td>\n",
       "      <td>0</td>\n",
       "      <td>0</td>\n",
       "      <td>0</td>\n",
       "      <td>0</td>\n",
       "      <td>...</td>\n",
       "      <td>0</td>\n",
       "      <td>0</td>\n",
       "      <td>0</td>\n",
       "      <td>0</td>\n",
       "      <td>0</td>\n",
       "      <td>0</td>\n",
       "      <td>0</td>\n",
       "      <td>0</td>\n",
       "      <td>0</td>\n",
       "      <td>1</td>\n",
       "    </tr>\n",
       "    <tr>\n",
       "      <th>10240</th>\n",
       "      <td>0</td>\n",
       "      <td>0</td>\n",
       "      <td>0</td>\n",
       "      <td>0</td>\n",
       "      <td>0</td>\n",
       "      <td>0</td>\n",
       "      <td>0</td>\n",
       "      <td>0</td>\n",
       "      <td>0</td>\n",
       "      <td>0</td>\n",
       "      <td>...</td>\n",
       "      <td>0</td>\n",
       "      <td>0</td>\n",
       "      <td>0</td>\n",
       "      <td>0</td>\n",
       "      <td>0</td>\n",
       "      <td>0</td>\n",
       "      <td>0</td>\n",
       "      <td>0</td>\n",
       "      <td>0</td>\n",
       "      <td>1</td>\n",
       "    </tr>\n",
       "    <tr>\n",
       "      <th>10241</th>\n",
       "      <td>0</td>\n",
       "      <td>0</td>\n",
       "      <td>0</td>\n",
       "      <td>0</td>\n",
       "      <td>0</td>\n",
       "      <td>0</td>\n",
       "      <td>0</td>\n",
       "      <td>0</td>\n",
       "      <td>0</td>\n",
       "      <td>0</td>\n",
       "      <td>...</td>\n",
       "      <td>0</td>\n",
       "      <td>0</td>\n",
       "      <td>0</td>\n",
       "      <td>0</td>\n",
       "      <td>0</td>\n",
       "      <td>0</td>\n",
       "      <td>0</td>\n",
       "      <td>0</td>\n",
       "      <td>0</td>\n",
       "      <td>1</td>\n",
       "    </tr>\n",
       "  </tbody>\n",
       "</table>\n",
       "<p>7332 rows × 241 columns</p>\n",
       "</div>"
      ],
      "text/plain": [
       "        Devarachikkanahalli  1st Block Jayanagar  1st Phase JP Nagar  \\\n",
       "1                         1                    0                   0   \n",
       "2                         1                    0                   0   \n",
       "3                         1                    0                   0   \n",
       "4                         1                    0                   0   \n",
       "5                         1                    0                   0   \n",
       "...                     ...                  ...                 ...   \n",
       "10232                     0                    0                   0   \n",
       "10233                     0                    0                   0   \n",
       "10235                     0                    0                   0   \n",
       "10240                     0                    0                   0   \n",
       "10241                     0                    0                   0   \n",
       "\n",
       "       2nd Phase Judicial Layout  2nd Stage Nagarbhavi  5th Block Hbr Layout  \\\n",
       "1                              0                     0                     0   \n",
       "2                              0                     0                     0   \n",
       "3                              0                     0                     0   \n",
       "4                              0                     0                     0   \n",
       "5                              0                     0                     0   \n",
       "...                          ...                   ...                   ...   \n",
       "10232                          0                     0                     0   \n",
       "10233                          0                     0                     0   \n",
       "10235                          0                     0                     0   \n",
       "10240                          0                     0                     0   \n",
       "10241                          0                     0                     0   \n",
       "\n",
       "       5th Phase JP Nagar  6th Phase JP Nagar  7th Phase JP Nagar  \\\n",
       "1                       0                   0                   0   \n",
       "2                       0                   0                   0   \n",
       "3                       0                   0                   0   \n",
       "4                       0                   0                   0   \n",
       "5                       0                   0                   0   \n",
       "...                   ...                 ...                 ...   \n",
       "10232                   0                   0                   0   \n",
       "10233                   0                   0                   0   \n",
       "10235                   0                   0                   0   \n",
       "10240                   0                   0                   0   \n",
       "10241                   0                   0                   0   \n",
       "\n",
       "       8th Phase JP Nagar  ...  Vijayanagar  Vishveshwarya Layout  \\\n",
       "1                       0  ...            0                     0   \n",
       "2                       0  ...            0                     0   \n",
       "3                       0  ...            0                     0   \n",
       "4                       0  ...            0                     0   \n",
       "5                       0  ...            0                     0   \n",
       "...                   ...  ...          ...                   ...   \n",
       "10232                   0  ...            0                     0   \n",
       "10233                   0  ...            0                     0   \n",
       "10235                   0  ...            0                     0   \n",
       "10240                   0  ...            0                     0   \n",
       "10241                   0  ...            0                     0   \n",
       "\n",
       "       Vishwapriya Layout  Vittasandra  Whitefield  Yelachenahalli  Yelahanka  \\\n",
       "1                       0            0           0               0          0   \n",
       "2                       0            0           0               0          0   \n",
       "3                       0            0           0               0          0   \n",
       "4                       0            0           0               0          0   \n",
       "5                       0            0           0               0          0   \n",
       "...                   ...          ...         ...             ...        ...   \n",
       "10232                   0            0           0               0          0   \n",
       "10233                   0            0           0               0          0   \n",
       "10235                   0            0           0               0          0   \n",
       "10240                   0            0           0               0          0   \n",
       "10241                   0            0           0               0          0   \n",
       "\n",
       "       Yelahanka New Town  Yelenahalli  Yeshwanthpur  \n",
       "1                       0            0             0  \n",
       "2                       0            0             0  \n",
       "3                       0            0             0  \n",
       "4                       0            0             0  \n",
       "5                       0            0             0  \n",
       "...                   ...          ...           ...  \n",
       "10232                   0            0             1  \n",
       "10233                   0            0             1  \n",
       "10235                   0            0             1  \n",
       "10240                   0            0             1  \n",
       "10241                   0            0             1  \n",
       "\n",
       "[7332 rows x 241 columns]"
      ]
     },
     "execution_count": 49,
     "metadata": {},
     "output_type": "execute_result"
    }
   ],
   "source": [
    "location_dummy"
   ]
  },
  {
   "cell_type": "code",
   "execution_count": 50,
   "id": "49f11aa9",
   "metadata": {},
   "outputs": [],
   "source": [
    "df_=pd.concat([df_,location_dummy,area_type],axis=1)"
   ]
  },
  {
   "cell_type": "code",
   "execution_count": 51,
   "id": "400e1048",
   "metadata": {},
   "outputs": [],
   "source": [
    "df_.drop(columns=['area_type','location'],inplace=True)"
   ]
  },
  {
   "cell_type": "code",
   "execution_count": 52,
   "id": "c70729ae",
   "metadata": {},
   "outputs": [
    {
     "data": {
      "text/html": [
       "<div>\n",
       "<style scoped>\n",
       "    .dataframe tbody tr th:only-of-type {\n",
       "        vertical-align: middle;\n",
       "    }\n",
       "\n",
       "    .dataframe tbody tr th {\n",
       "        vertical-align: top;\n",
       "    }\n",
       "\n",
       "    .dataframe thead th {\n",
       "        text-align: right;\n",
       "    }\n",
       "</style>\n",
       "<table border=\"1\" class=\"dataframe\">\n",
       "  <thead>\n",
       "    <tr style=\"text-align: right;\">\n",
       "      <th></th>\n",
       "      <th>size</th>\n",
       "      <th>total_sqft</th>\n",
       "      <th>bath</th>\n",
       "      <th>price</th>\n",
       "      <th>Devarachikkanahalli</th>\n",
       "      <th>1st Block Jayanagar</th>\n",
       "      <th>1st Phase JP Nagar</th>\n",
       "      <th>2nd Phase Judicial Layout</th>\n",
       "      <th>2nd Stage Nagarbhavi</th>\n",
       "      <th>5th Block Hbr Layout</th>\n",
       "      <th>...</th>\n",
       "      <th>Whitefield</th>\n",
       "      <th>Yelachenahalli</th>\n",
       "      <th>Yelahanka</th>\n",
       "      <th>Yelahanka New Town</th>\n",
       "      <th>Yelenahalli</th>\n",
       "      <th>Yeshwanthpur</th>\n",
       "      <th>Built-up  Area</th>\n",
       "      <th>Carpet  Area</th>\n",
       "      <th>Plot  Area</th>\n",
       "      <th>Super built-up  Area</th>\n",
       "    </tr>\n",
       "  </thead>\n",
       "  <tbody>\n",
       "    <tr>\n",
       "      <th>1</th>\n",
       "      <td>2</td>\n",
       "      <td>1250.0</td>\n",
       "      <td>2</td>\n",
       "      <td>40.0</td>\n",
       "      <td>1</td>\n",
       "      <td>0</td>\n",
       "      <td>0</td>\n",
       "      <td>0</td>\n",
       "      <td>0</td>\n",
       "      <td>0</td>\n",
       "      <td>...</td>\n",
       "      <td>0</td>\n",
       "      <td>0</td>\n",
       "      <td>0</td>\n",
       "      <td>0</td>\n",
       "      <td>0</td>\n",
       "      <td>0</td>\n",
       "      <td>0</td>\n",
       "      <td>0</td>\n",
       "      <td>0</td>\n",
       "      <td>1</td>\n",
       "    </tr>\n",
       "    <tr>\n",
       "      <th>2</th>\n",
       "      <td>2</td>\n",
       "      <td>1200.0</td>\n",
       "      <td>2</td>\n",
       "      <td>83.0</td>\n",
       "      <td>1</td>\n",
       "      <td>0</td>\n",
       "      <td>0</td>\n",
       "      <td>0</td>\n",
       "      <td>0</td>\n",
       "      <td>0</td>\n",
       "      <td>...</td>\n",
       "      <td>0</td>\n",
       "      <td>0</td>\n",
       "      <td>0</td>\n",
       "      <td>0</td>\n",
       "      <td>0</td>\n",
       "      <td>0</td>\n",
       "      <td>0</td>\n",
       "      <td>0</td>\n",
       "      <td>1</td>\n",
       "      <td>0</td>\n",
       "    </tr>\n",
       "  </tbody>\n",
       "</table>\n",
       "<p>2 rows × 249 columns</p>\n",
       "</div>"
      ],
      "text/plain": [
       "   size  total_sqft  bath  price   Devarachikkanahalli  1st Block Jayanagar  \\\n",
       "1     2      1250.0     2   40.0                     1                    0   \n",
       "2     2      1200.0     2   83.0                     1                    0   \n",
       "\n",
       "   1st Phase JP Nagar  2nd Phase Judicial Layout  2nd Stage Nagarbhavi  \\\n",
       "1                   0                          0                     0   \n",
       "2                   0                          0                     0   \n",
       "\n",
       "   5th Block Hbr Layout  ...  Whitefield  Yelachenahalli  Yelahanka  \\\n",
       "1                     0  ...           0               0          0   \n",
       "2                     0  ...           0               0          0   \n",
       "\n",
       "   Yelahanka New Town  Yelenahalli  Yeshwanthpur  Built-up  Area  \\\n",
       "1                   0            0             0               0   \n",
       "2                   0            0             0               0   \n",
       "\n",
       "   Carpet  Area  Plot  Area  Super built-up  Area  \n",
       "1             0           0                     1  \n",
       "2             0           1                     0  \n",
       "\n",
       "[2 rows x 249 columns]"
      ]
     },
     "execution_count": 52,
     "metadata": {},
     "output_type": "execute_result"
    }
   ],
   "source": [
    "df_.head(2)"
   ]
  },
  {
   "cell_type": "code",
   "execution_count": 53,
   "id": "4edd0d18",
   "metadata": {},
   "outputs": [],
   "source": [
    "X=df_.copy()\n",
    "X.drop(columns=['price'],axis=1,inplace=True)"
   ]
  },
  {
   "cell_type": "code",
   "execution_count": 54,
   "id": "e63c03a5",
   "metadata": {},
   "outputs": [],
   "source": [
    "Y=df_['price']"
   ]
  },
  {
   "cell_type": "code",
   "execution_count": 55,
   "id": "eb24ef22",
   "metadata": {},
   "outputs": [],
   "source": [
    "#Model building:\n",
    "\n",
    "\n",
    "from sklearn.model_selection import train_test_split\n",
    "from sklearn.model_selection import cross_val_score\n",
    "from sklearn.model_selection import RandomizedSearchCV\n",
    "\n",
    "from sklearn.linear_model import LinearRegression,Ridge,Lasso\n",
    "from sklearn.ensemble import RandomForestRegressor,GradientBoostingRegressor\n",
    "from sklearn.metrics import r2_score,mean_squared_error,mean_absolute_error"
   ]
  },
  {
   "cell_type": "code",
   "execution_count": 56,
   "id": "fb80bb30",
   "metadata": {},
   "outputs": [],
   "source": [
    "Xtrain,Xtest,Ytrain,Ytest=train_test_split(X,Y,test_size=0.2,random_state=0)"
   ]
  },
  {
   "cell_type": "code",
   "execution_count": 57,
   "id": "18490e0e",
   "metadata": {},
   "outputs": [
    {
     "data": {
      "text/plain": [
       "(5865, 248)"
      ]
     },
     "execution_count": 57,
     "metadata": {},
     "output_type": "execute_result"
    }
   ],
   "source": [
    "Xtrain.shape"
   ]
  },
  {
   "cell_type": "code",
   "execution_count": 58,
   "id": "c9bbc9d5",
   "metadata": {},
   "outputs": [
    {
     "data": {
      "text/plain": [
       "(5865,)"
      ]
     },
     "execution_count": 58,
     "metadata": {},
     "output_type": "execute_result"
    }
   ],
   "source": [
    "Ytrain.shape"
   ]
  },
  {
   "cell_type": "code",
   "execution_count": 59,
   "id": "b54775f7",
   "metadata": {},
   "outputs": [
    {
     "data": {
      "text/plain": [
       "(1467, 248)"
      ]
     },
     "execution_count": 59,
     "metadata": {},
     "output_type": "execute_result"
    }
   ],
   "source": [
    "Xtest.shape"
   ]
  },
  {
   "cell_type": "code",
   "execution_count": 60,
   "id": "bee6e9ed",
   "metadata": {},
   "outputs": [
    {
     "data": {
      "text/plain": [
       "(1467,)"
      ]
     },
     "execution_count": 60,
     "metadata": {},
     "output_type": "execute_result"
    }
   ],
   "source": [
    "Ytest.shape"
   ]
  },
  {
   "cell_type": "code",
   "execution_count": 61,
   "id": "3f1dc715",
   "metadata": {},
   "outputs": [],
   "source": [
    "cv=[]\n",
    "train_MAE=[]\n",
    "train_RMSE=[]\n",
    "train_R2_score=[]\n",
    "\n",
    "\n",
    "test_MAE=[]\n",
    "test_RMSE=[]\n",
    "test_R2_score=[]\n",
    "\n",
    "\n",
    "def model_building(model):\n",
    "    \n",
    "    model.fit(Xtrain,Ytrain)\n",
    "    \n",
    "    Y_training_pred=model.predict(Xtrain)\n",
    "    train_rmse=np.sqrt(mean_squared_error(Ytrain,Y_training_pred))\n",
    "    train_RMSE.append(train_rmse)\n",
    "    train_mae=mean_absolute_error(Ytrain,Y_training_pred)\n",
    "    train_MAE.append(train_mae)\n",
    "    r2=r2_score(Ytrain,Y_training_pred)\n",
    "    train_R2_score.append(r2)\n",
    "    \n",
    "    \n",
    "    Y_test_pred=model.predict(Xtest)\n",
    "    rmse=np.sqrt(mean_squared_error(Ytest,Y_test_pred))\n",
    "    test_RMSE.append(rmse)\n",
    "    mae=mean_absolute_error(Ytest,Y_test_pred)\n",
    "    test_MAE.append(mae)\n",
    "    test_r2=r2_score(Ytest,Y_test_pred)\n",
    "    test_R2_score.append(test_r2)\n",
    "    \n",
    "    cv_score=cross_val_score(model,Xtrain,Ytrain,cv=5)\n",
    "    cv_score_mean=cv_score.mean()\n",
    "    cv.append(cv_score_mean)    "
   ]
  },
  {
   "cell_type": "code",
   "execution_count": 62,
   "id": "b7eb2c17",
   "metadata": {},
   "outputs": [],
   "source": [
    "lr=LinearRegression()\n",
    "\n",
    "model_building(lr)"
   ]
  },
  {
   "cell_type": "code",
   "execution_count": 63,
   "id": "cc3f8a58",
   "metadata": {},
   "outputs": [],
   "source": [
    "alpha=np.logspace(-3,3,10)\n",
    "\n",
    "ls=Lasso(alpha)\n",
    "\n",
    "ls_rs=RandomizedSearchCV(estimator=ls,param_distributions=dict(alpha=alpha))\n",
    "\n",
    "model_building(ls_rs)\n"
   ]
  },
  {
   "cell_type": "code",
   "execution_count": 64,
   "id": "ea3856a7",
   "metadata": {},
   "outputs": [],
   "source": [
    "rg=Ridge()\n",
    "\n",
    "rg_rs=RandomizedSearchCV(estimator=rg,param_distributions=dict(alpha=alpha))\n",
    "\n",
    "model_building(rg_rs)"
   ]
  },
  {
   "cell_type": "code",
   "execution_count": 65,
   "id": "fc76c04b",
   "metadata": {},
   "outputs": [
    {
     "name": "stderr",
     "output_type": "stream",
     "text": [
      "C:\\Users\\a0g0btd\\Anaconda3\\envs\\bglrhousepred\\lib\\site-packages\\sklearn\\model_selection\\_search.py:292: UserWarning: The total space of parameters 8 is smaller than n_iter=10. Running 8 iterations. For exhaustive searches, use GridSearchCV.\n",
      "  warnings.warn(\n",
      "C:\\Users\\a0g0btd\\Anaconda3\\envs\\bglrhousepred\\lib\\site-packages\\sklearn\\model_selection\\_search.py:292: UserWarning: The total space of parameters 8 is smaller than n_iter=10. Running 8 iterations. For exhaustive searches, use GridSearchCV.\n",
      "  warnings.warn(\n",
      "C:\\Users\\a0g0btd\\Anaconda3\\envs\\bglrhousepred\\lib\\site-packages\\sklearn\\model_selection\\_search.py:292: UserWarning: The total space of parameters 8 is smaller than n_iter=10. Running 8 iterations. For exhaustive searches, use GridSearchCV.\n",
      "  warnings.warn(\n",
      "C:\\Users\\a0g0btd\\Anaconda3\\envs\\bglrhousepred\\lib\\site-packages\\sklearn\\model_selection\\_search.py:292: UserWarning: The total space of parameters 8 is smaller than n_iter=10. Running 8 iterations. For exhaustive searches, use GridSearchCV.\n",
      "  warnings.warn(\n",
      "C:\\Users\\a0g0btd\\Anaconda3\\envs\\bglrhousepred\\lib\\site-packages\\sklearn\\model_selection\\_search.py:292: UserWarning: The total space of parameters 8 is smaller than n_iter=10. Running 8 iterations. For exhaustive searches, use GridSearchCV.\n",
      "  warnings.warn(\n",
      "C:\\Users\\a0g0btd\\Anaconda3\\envs\\bglrhousepred\\lib\\site-packages\\sklearn\\model_selection\\_search.py:292: UserWarning: The total space of parameters 8 is smaller than n_iter=10. Running 8 iterations. For exhaustive searches, use GridSearchCV.\n",
      "  warnings.warn(\n"
     ]
    }
   ],
   "source": [
    "rfr=RandomForestRegressor()\n",
    "\n",
    "n_estimators=list(range(100,200,500))\n",
    "\n",
    "min_samples_split=list(range(3,6,9))\n",
    "\n",
    "max_depth=list(range(5,10,15))\n",
    "\n",
    "min_samples_leaf=[1,3,5,7]\n",
    "\n",
    "max_features=['auto','sqrt']\n",
    "\n",
    "param_distributions={\"n_estimators\":n_estimators,\n",
    "                    \"min_samples_split\":min_samples_split,\n",
    "                    \"max_depth\":max_depth,\n",
    "                    \"min_samples_leaf\":min_samples_leaf,\n",
    "                    \"max_features\":max_features}\n",
    "\n",
    "rzc=RandomizedSearchCV(estimator=rfr,param_distributions=param_distributions)\n",
    "\n",
    "model_building(rzc)"
   ]
  },
  {
   "cell_type": "code",
   "execution_count": 66,
   "id": "00700fd7",
   "metadata": {},
   "outputs": [],
   "source": [
    "gbr=GradientBoostingRegressor()\n",
    "\n",
    "learning_rate=[0.0001,0.001,0.1]\n",
    "\n",
    "n_estimators=list(range(100,200,500))\n",
    "\n",
    "min_samples_split=list(range(3,6,9))\n",
    "\n",
    "max_depth=list(range(5,10,15))\n",
    "\n",
    "min_samples_leaf=[1,3,5,7]\n",
    "\n",
    "max_features=['auto','sqrt']\n",
    "\n",
    "param_distributions={\"learning_rate\":learning_rate,\n",
    "                    \"n_estimators\":n_estimators,\n",
    "                    \"min_samples_split\":min_samples_split,\n",
    "                    \"max_depth\":max_depth,\n",
    "                    \"min_samples_leaf\":min_samples_leaf,\n",
    "                    \"max_features\":max_features}\n",
    "\n",
    "gb_rc=RandomizedSearchCV(estimator=gbr,param_distributions=param_distributions)\n",
    "\n",
    "model_building(gb_rc)"
   ]
  },
  {
   "cell_type": "code",
   "execution_count": 67,
   "id": "fb75ce07",
   "metadata": {},
   "outputs": [],
   "source": [
    "results=pd.DataFrame([cv,train_MAE,train_RMSE,train_R2_score,test_MAE,test_RMSE,test_R2_score],columns=['Linear_Regression','Lasso','Ridge','RandomForestRegressor','GradientBoosting'],index=['cv','train_MAE','train_RMSE','train_R2_score','test_MAE','test_RMSE','test_R2_score'])"
   ]
  },
  {
   "cell_type": "code",
   "execution_count": 68,
   "id": "a6936579",
   "metadata": {},
   "outputs": [
    {
     "data": {
      "text/html": [
       "<div>\n",
       "<style scoped>\n",
       "    .dataframe tbody tr th:only-of-type {\n",
       "        vertical-align: middle;\n",
       "    }\n",
       "\n",
       "    .dataframe tbody tr th {\n",
       "        vertical-align: top;\n",
       "    }\n",
       "\n",
       "    .dataframe thead th {\n",
       "        text-align: right;\n",
       "    }\n",
       "</style>\n",
       "<table border=\"1\" class=\"dataframe\">\n",
       "  <thead>\n",
       "    <tr style=\"text-align: right;\">\n",
       "      <th></th>\n",
       "      <th>Linear_Regression</th>\n",
       "      <th>Lasso</th>\n",
       "      <th>Ridge</th>\n",
       "      <th>RandomForestRegressor</th>\n",
       "      <th>GradientBoosting</th>\n",
       "    </tr>\n",
       "  </thead>\n",
       "  <tbody>\n",
       "    <tr>\n",
       "      <th>cv</th>\n",
       "      <td>-1.981626e+15</td>\n",
       "      <td>0.846537</td>\n",
       "      <td>0.847074</td>\n",
       "      <td>0.760355</td>\n",
       "      <td>0.785163</td>\n",
       "    </tr>\n",
       "    <tr>\n",
       "      <th>train_MAE</th>\n",
       "      <td>1.740278e+01</td>\n",
       "      <td>17.418011</td>\n",
       "      <td>17.368212</td>\n",
       "      <td>21.236727</td>\n",
       "      <td>18.482464</td>\n",
       "    </tr>\n",
       "    <tr>\n",
       "      <th>train_RMSE</th>\n",
       "      <td>3.606627e+01</td>\n",
       "      <td>36.104463</td>\n",
       "      <td>36.109286</td>\n",
       "      <td>38.387961</td>\n",
       "      <td>28.580091</td>\n",
       "    </tr>\n",
       "    <tr>\n",
       "      <th>train_R2_score</th>\n",
       "      <td>8.574086e-01</td>\n",
       "      <td>0.857106</td>\n",
       "      <td>0.857068</td>\n",
       "      <td>0.838460</td>\n",
       "      <td>0.910460</td>\n",
       "    </tr>\n",
       "    <tr>\n",
       "      <th>test_MAE</th>\n",
       "      <td>1.813223e+01</td>\n",
       "      <td>18.068355</td>\n",
       "      <td>17.969457</td>\n",
       "      <td>22.022930</td>\n",
       "      <td>19.489864</td>\n",
       "    </tr>\n",
       "    <tr>\n",
       "      <th>test_RMSE</th>\n",
       "      <td>3.182378e+01</td>\n",
       "      <td>31.729762</td>\n",
       "      <td>31.532169</td>\n",
       "      <td>38.006138</td>\n",
       "      <td>30.857833</td>\n",
       "    </tr>\n",
       "    <tr>\n",
       "      <th>test_R2_score</th>\n",
       "      <td>8.377238e-01</td>\n",
       "      <td>0.838681</td>\n",
       "      <td>0.840684</td>\n",
       "      <td>0.768549</td>\n",
       "      <td>0.847425</td>\n",
       "    </tr>\n",
       "  </tbody>\n",
       "</table>\n",
       "</div>"
      ],
      "text/plain": [
       "                Linear_Regression      Lasso      Ridge  \\\n",
       "cv                  -1.981626e+15   0.846537   0.847074   \n",
       "train_MAE            1.740278e+01  17.418011  17.368212   \n",
       "train_RMSE           3.606627e+01  36.104463  36.109286   \n",
       "train_R2_score       8.574086e-01   0.857106   0.857068   \n",
       "test_MAE             1.813223e+01  18.068355  17.969457   \n",
       "test_RMSE            3.182378e+01  31.729762  31.532169   \n",
       "test_R2_score        8.377238e-01   0.838681   0.840684   \n",
       "\n",
       "                RandomForestRegressor  GradientBoosting  \n",
       "cv                           0.760355          0.785163  \n",
       "train_MAE                   21.236727         18.482464  \n",
       "train_RMSE                  38.387961         28.580091  \n",
       "train_R2_score               0.838460          0.910460  \n",
       "test_MAE                    22.022930         19.489864  \n",
       "test_RMSE                   38.006138         30.857833  \n",
       "test_R2_score                0.768549          0.847425  "
      ]
     },
     "execution_count": 68,
     "metadata": {},
     "output_type": "execute_result"
    }
   ],
   "source": [
    "results"
   ]
  },
  {
   "cell_type": "raw",
   "id": "c05f62a0",
   "metadata": {},
   "source": [
    "#Inference: Except Linear Regression all the algorithms are performing well.\n",
    "\n",
    "Since R2 score is highest for Gradient boosting test data , we will select gradient boosting model"
   ]
  },
  {
   "cell_type": "code",
   "execution_count": 69,
   "id": "b3e2cfe0",
   "metadata": {},
   "outputs": [],
   "source": [
    "import pickle\n",
    "\n",
    "with open('banglore_home_prices_model.pickle','wb') as f:\n",
    "    pickle.dump(gb_rc,f)"
   ]
  },
  {
   "cell_type": "code",
   "execution_count": 70,
   "id": "e7767044",
   "metadata": {},
   "outputs": [],
   "source": [
    "var=X.iloc[1,:]"
   ]
  },
  {
   "cell_type": "code",
   "execution_count": 71,
   "id": "9824f1b3",
   "metadata": {},
   "outputs": [
    {
     "data": {
      "text/plain": [
       "size                       2.0\n",
       "total_sqft              1200.0\n",
       "bath                       2.0\n",
       " Devarachikkanahalli       1.0\n",
       "1st Block Jayanagar        0.0\n",
       "                         ...  \n",
       "Yeshwanthpur               0.0\n",
       "Built-up  Area             0.0\n",
       "Carpet  Area               0.0\n",
       "Plot  Area                 1.0\n",
       "Super built-up  Area       0.0\n",
       "Name: 2, Length: 248, dtype: float64"
      ]
     },
     "execution_count": 71,
     "metadata": {},
     "output_type": "execute_result"
    }
   ],
   "source": [
    "var"
   ]
  },
  {
   "cell_type": "code",
   "execution_count": 72,
   "id": "8fa01751",
   "metadata": {},
   "outputs": [
    {
     "data": {
      "text/plain": [
       "240"
      ]
     },
     "execution_count": 72,
     "metadata": {},
     "output_type": "execute_result"
    }
   ],
   "source": [
    "location_list=[\"1st block jayanagar\", \"1st phase jp nagar\", \"2nd phase judicial layout\", \"2nd stage nagarbhavi\", \"5th block hbr layout\", \"5th phase jp nagar\", \"6th phase jp nagar\", \"7th phase jp nagar\", \"8th phase jp nagar\", \"9th phase jp nagar\", \"aecs layout\", \"abbigere\", \"akshaya nagar\", \"ambalipura\", \"ambedkar nagar\", \"amruthahalli\", \"anandapura\", \"ananth nagar\", \"anekal\", \"anjanapura\", \"ardendale\", \"arekere\", \"attibele\", \"beml layout\", \"btm 2nd stage\", \"btm layout\", \"babusapalaya\", \"badavala nagar\", \"balagere\", \"banashankari\", \"banashankari stage ii\", \"banashankari stage iii\", \"banashankari stage v\", \"banashankari stage vi\", \"banaswadi\", \"banjara layout\", \"bannerghatta\", \"bannerghatta road\", \"basavangudi\", \"basaveshwara nagar\", \"battarahalli\", \"begur\", \"begur road\", \"bellandur\", \"benson town\", \"bharathi nagar\", \"bhoganhalli\", \"billekahalli\", \"binny pete\", \"bisuvanahalli\", \"bommanahalli\", \"bommasandra\", \"bommasandra industrial area\", \"bommenahalli\", \"brookefield\", \"budigere\", \"cv raman nagar\", \"chamrajpet\", \"chandapura\", \"channasandra\", \"chikka tirupathi\", \"chikkabanavar\", \"chikkalasandra\", \"choodasandra\", \"cooke town\", \"cox town\", \"cunningham road\", \"dasanapura\", \"dasarahalli\", \"devanahalli\", \"devarachikkanahalli\", \"dodda nekkundi\", \"doddaballapur\", \"doddakallasandra\", \"doddathoguru\", \"domlur\", \"dommasandra\", \"epip zone\", \"electronic city\", \"electronic city phase ii\", \"electronics city phase 1\", \"frazer town\", \"gm palaya\", \"garudachar palya\", \"giri nagar\", \"gollarapalya hosahalli\", \"gottigere\", \"green glen layout\", \"gubbalala\", \"gunjur\", \"hal 2nd stage\", \"hbr layout\", \"hrbr layout\", \"hsr layout\", \"haralur road\", \"harlur\", \"hebbal\", \"hebbal kempapura\", \"hegde nagar\", \"hennur\", \"hennur road\", \"hoodi\", \"horamavu agara\", \"horamavu banaswadi\", \"hormavu\", \"hosa road\", \"hosakerehalli\", \"hoskote\", \"hosur road\", \"hulimavu\", \"isro layout\", \"itpl\", \"iblur village\", \"indira nagar\", \"jp nagar\", \"jakkur\", \"jalahalli\", \"jalahalli east\", \"jigani\", \"judicial layout\", \"kr puram\", \"kadubeesanahalli\", \"kadugodi\", \"kaggadasapura\", \"kaggalipura\", \"kaikondrahalli\", \"kalena agrahara\", \"kalyan nagar\", \"kambipura\", \"kammanahalli\", \"kammasandra\", \"kanakapura\", \"kanakpura road\", \"kannamangala\", \"karuna nagar\", \"kasavanhalli\", \"kasturi nagar\", \"kathriguppe\", \"kaval byrasandra\", \"kenchenahalli\", \"kengeri\", \"kengeri satellite town\", \"kereguddadahalli\", \"kodichikkanahalli\", \"kodigehaali\", \"kodigehalli\", \"kodihalli\", \"kogilu\", \"konanakunte\", \"koramangala\", \"kothannur\", \"kothanur\", \"kudlu\", \"kudlu gate\", \"kumaraswami layout\", \"kundalahalli\", \"lb shastri nagar\", \"laggere\", \"lakshminarayana pura\", \"lingadheeranahalli\", \"magadi road\", \"mahadevpura\", \"mahalakshmi layout\", \"mallasandra\", \"malleshpalya\", \"malleshwaram\", \"marathahalli\", \"margondanahalli\", \"marsur\", \"mico layout\", \"munnekollal\", \"murugeshpalya\", \"mysore road\", \"ngr layout\", \"nri layout\", \"nagarbhavi\", \"nagasandra\", \"nagavara\", \"nagavarapalya\", \"narayanapura\", \"neeladri nagar\", \"nehru nagar\", \"ombr layout\", \"old airport road\", \"old madras road\", \"padmanabhanagar\", \"pai layout\", \"panathur\", \"parappana agrahara\", \"pattandur agrahara\", \"poorna pragna layout\", \"prithvi layout\", \"r.t. nagar\", \"rachenahalli\", \"raja rajeshwari nagar\", \"rajaji nagar\", \"rajiv nagar\", \"ramagondanahalli\", \"ramamurthy nagar\", \"rayasandra\", \"sahakara nagar\", \"sanjay nagar\", \"sarakki nagar\", \"sarjapur\", \"sarjapur  road\", \"sarjapura - attibele road\", \"sector 2 hsr layout\", \"sector 7 hsr layout\", \"seegehalli\", \"shampura\", \"shivaji nagar\", \"singasandra\", \"somasundara palya\", \"sompura\", \"sonnenahalli\", \"subramanyapura\", \"sultan palaya\", \"tc palaya\", \"talaghattapura\", \"thanisandra\", \"thigalarapalya\", \"thubarahalli\", \"tindlu\", \"tumkur road\", \"ulsoor\", \"uttarahalli\", \"varthur\", \"varthur road\", \"vasanthapura\", \"vidyaranyapura\", \"vijayanagar\", \"vishveshwarya layout\", \"vishwapriya layout\", \"vittasandra\", \"whitefield\", \"yelachenahalli\", \"yelahanka\", \"yelahanka new town\", \"yelenahalli\", \"yeshwanthpur\"]\n",
    "len(location_list)"
   ]
  },
  {
   "cell_type": "code",
   "execution_count": 73,
   "id": "c1eabf7b",
   "metadata": {},
   "outputs": [
    {
     "data": {
      "text/plain": [
       "(7332, 248)"
      ]
     },
     "execution_count": 73,
     "metadata": {},
     "output_type": "execute_result"
    }
   ],
   "source": [
    "X.shape"
   ]
  },
  {
   "cell_type": "code",
   "execution_count": 110,
   "id": "15cd22fa",
   "metadata": {},
   "outputs": [],
   "source": [
    "test=[2.0,1000,2.0,0, 1, 0, 0, 0, 0, 0, 0, 0, 0, 0, 0, 0, 0, 0, 0, 0, 0, 0, 0, 0, 0, 0, 0, 0, 0, 0, 0, 0, 0, 0, 0, 0, 0, 0, 0, 0, 0, 0, 0, 0, 0, 0, 0, 0, 0, 0, 0, 0, 0, 0, 0, 0, 0, 0, 0, 0, 0, 0, 0, 0, 0, 0, 0, 0, 0, 0, 0, 0, 0, 0, 0, 0, 0, 0, 0, 0, 0, 0, 0, 0, 0, 0, 0, 0, 0, 0, 0, 0, 0, 0, 0, 0, 0, 0, 0, 0, 0, 0, 0, 0, 0, 0, 0, 0, 0, 0, 0, 0, 0, 0, 0, 0, 0, 0, 0, 0, 0, 0, 0, 0, 0, 0, 0, 0, 0, 0, 0, 0, 0, 0, 0, 0, 0, 0, 0, 0, 0, 0, 0, 0, 0, 0, 0, 0, 0, 0, 0, 0, 0, 0, 0, 0, 0, 0, 0, 0, 0, 0, 0, 0, 0, 0, 0, 0, 0, 0, 0, 0, 0, 0, 0, 0, 0, 0, 0, 0, 0, 0, 0, 0, 0, 0, 0, 0, 0, 0, 0, 0, 0, 0, 0, 0, 0, 0, 0, 0, 0, 0, 0, 0, 0, 0, 0, 0, 0, 0, 0, 0, 0, 0, 0, 0, 0, 0, 0, 0, 0, 0, 0, 0, 0, 0, 0, 0, 0, 0, 0, 0, 0, 0, 0, 0, 0, 0, 0, 0, 0, 0, 0, 0,0,0,1,0]"
   ]
  },
  {
   "cell_type": "code",
   "execution_count": 111,
   "id": "6b0079cc",
   "metadata": {},
   "outputs": [],
   "source": [
    "test=pd.DataFrame(test,index=X.columns).T"
   ]
  },
  {
   "cell_type": "code",
   "execution_count": 112,
   "id": "fe030e90",
   "metadata": {},
   "outputs": [
    {
     "data": {
      "text/html": [
       "<div>\n",
       "<style scoped>\n",
       "    .dataframe tbody tr th:only-of-type {\n",
       "        vertical-align: middle;\n",
       "    }\n",
       "\n",
       "    .dataframe tbody tr th {\n",
       "        vertical-align: top;\n",
       "    }\n",
       "\n",
       "    .dataframe thead th {\n",
       "        text-align: right;\n",
       "    }\n",
       "</style>\n",
       "<table border=\"1\" class=\"dataframe\">\n",
       "  <thead>\n",
       "    <tr style=\"text-align: right;\">\n",
       "      <th></th>\n",
       "      <th>size</th>\n",
       "      <th>total_sqft</th>\n",
       "      <th>bath</th>\n",
       "      <th>Devarachikkanahalli</th>\n",
       "      <th>1st Block Jayanagar</th>\n",
       "      <th>1st Phase JP Nagar</th>\n",
       "      <th>2nd Phase Judicial Layout</th>\n",
       "      <th>2nd Stage Nagarbhavi</th>\n",
       "      <th>5th Block Hbr Layout</th>\n",
       "      <th>5th Phase JP Nagar</th>\n",
       "      <th>...</th>\n",
       "      <th>Whitefield</th>\n",
       "      <th>Yelachenahalli</th>\n",
       "      <th>Yelahanka</th>\n",
       "      <th>Yelahanka New Town</th>\n",
       "      <th>Yelenahalli</th>\n",
       "      <th>Yeshwanthpur</th>\n",
       "      <th>Built-up  Area</th>\n",
       "      <th>Carpet  Area</th>\n",
       "      <th>Plot  Area</th>\n",
       "      <th>Super built-up  Area</th>\n",
       "    </tr>\n",
       "  </thead>\n",
       "  <tbody>\n",
       "    <tr>\n",
       "      <th>0</th>\n",
       "      <td>2.0</td>\n",
       "      <td>1000.0</td>\n",
       "      <td>2.0</td>\n",
       "      <td>0.0</td>\n",
       "      <td>1.0</td>\n",
       "      <td>0.0</td>\n",
       "      <td>0.0</td>\n",
       "      <td>0.0</td>\n",
       "      <td>0.0</td>\n",
       "      <td>0.0</td>\n",
       "      <td>...</td>\n",
       "      <td>0.0</td>\n",
       "      <td>0.0</td>\n",
       "      <td>0.0</td>\n",
       "      <td>0.0</td>\n",
       "      <td>0.0</td>\n",
       "      <td>0.0</td>\n",
       "      <td>0.0</td>\n",
       "      <td>0.0</td>\n",
       "      <td>1.0</td>\n",
       "      <td>0.0</td>\n",
       "    </tr>\n",
       "  </tbody>\n",
       "</table>\n",
       "<p>1 rows × 248 columns</p>\n",
       "</div>"
      ],
      "text/plain": [
       "   size  total_sqft  bath   Devarachikkanahalli  1st Block Jayanagar  \\\n",
       "0   2.0      1000.0   2.0                   0.0                  1.0   \n",
       "\n",
       "   1st Phase JP Nagar  2nd Phase Judicial Layout  2nd Stage Nagarbhavi  \\\n",
       "0                 0.0                        0.0                   0.0   \n",
       "\n",
       "   5th Block Hbr Layout  5th Phase JP Nagar  ...  Whitefield  Yelachenahalli  \\\n",
       "0                   0.0                 0.0  ...         0.0             0.0   \n",
       "\n",
       "   Yelahanka  Yelahanka New Town  Yelenahalli  Yeshwanthpur  Built-up  Area  \\\n",
       "0        0.0                 0.0          0.0           0.0             0.0   \n",
       "\n",
       "   Carpet  Area  Plot  Area  Super built-up  Area  \n",
       "0           0.0         1.0                   0.0  \n",
       "\n",
       "[1 rows x 248 columns]"
      ]
     },
     "execution_count": 112,
     "metadata": {},
     "output_type": "execute_result"
    }
   ],
   "source": [
    "test"
   ]
  },
  {
   "cell_type": "code",
   "execution_count": 116,
   "id": "5548931b",
   "metadata": {},
   "outputs": [],
   "source": [
    "tt=test.values"
   ]
  },
  {
   "cell_type": "code",
   "execution_count": 117,
   "id": "e23cfb4b",
   "metadata": {},
   "outputs": [
    {
     "data": {
      "text/plain": [
       "array([[   2., 1000.,    2.,    0.,    1.,    0.,    0.,    0.,    0.,\n",
       "           0.,    0.,    0.,    0.,    0.,    0.,    0.,    0.,    0.,\n",
       "           0.,    0.,    0.,    0.,    0.,    0.,    0.,    0.,    0.,\n",
       "           0.,    0.,    0.,    0.,    0.,    0.,    0.,    0.,    0.,\n",
       "           0.,    0.,    0.,    0.,    0.,    0.,    0.,    0.,    0.,\n",
       "           0.,    0.,    0.,    0.,    0.,    0.,    0.,    0.,    0.,\n",
       "           0.,    0.,    0.,    0.,    0.,    0.,    0.,    0.,    0.,\n",
       "           0.,    0.,    0.,    0.,    0.,    0.,    0.,    0.,    0.,\n",
       "           0.,    0.,    0.,    0.,    0.,    0.,    0.,    0.,    0.,\n",
       "           0.,    0.,    0.,    0.,    0.,    0.,    0.,    0.,    0.,\n",
       "           0.,    0.,    0.,    0.,    0.,    0.,    0.,    0.,    0.,\n",
       "           0.,    0.,    0.,    0.,    0.,    0.,    0.,    0.,    0.,\n",
       "           0.,    0.,    0.,    0.,    0.,    0.,    0.,    0.,    0.,\n",
       "           0.,    0.,    0.,    0.,    0.,    0.,    0.,    0.,    0.,\n",
       "           0.,    0.,    0.,    0.,    0.,    0.,    0.,    0.,    0.,\n",
       "           0.,    0.,    0.,    0.,    0.,    0.,    0.,    0.,    0.,\n",
       "           0.,    0.,    0.,    0.,    0.,    0.,    0.,    0.,    0.,\n",
       "           0.,    0.,    0.,    0.,    0.,    0.,    0.,    0.,    0.,\n",
       "           0.,    0.,    0.,    0.,    0.,    0.,    0.,    0.,    0.,\n",
       "           0.,    0.,    0.,    0.,    0.,    0.,    0.,    0.,    0.,\n",
       "           0.,    0.,    0.,    0.,    0.,    0.,    0.,    0.,    0.,\n",
       "           0.,    0.,    0.,    0.,    0.,    0.,    0.,    0.,    0.,\n",
       "           0.,    0.,    0.,    0.,    0.,    0.,    0.,    0.,    0.,\n",
       "           0.,    0.,    0.,    0.,    0.,    0.,    0.,    0.,    0.,\n",
       "           0.,    0.,    0.,    0.,    0.,    0.,    0.,    0.,    0.,\n",
       "           0.,    0.,    0.,    0.,    0.,    0.,    0.,    0.,    0.,\n",
       "           0.,    0.,    0.,    0.,    0.,    0.,    0.,    0.,    0.,\n",
       "           0.,    0.,    0.,    1.,    0.]])"
      ]
     },
     "execution_count": 117,
     "metadata": {},
     "output_type": "execute_result"
    }
   ],
   "source": [
    "tt"
   ]
  },
  {
   "cell_type": "code",
   "execution_count": 118,
   "id": "58e84f2c",
   "metadata": {},
   "outputs": [
    {
     "name": "stderr",
     "output_type": "stream",
     "text": [
      "C:\\Users\\a0g0btd\\Anaconda3\\envs\\bglrhousepred\\lib\\site-packages\\sklearn\\base.py:450: UserWarning: X does not have valid feature names, but GradientBoostingRegressor was fitted with feature names\n",
      "  warnings.warn(\n"
     ]
    }
   ],
   "source": [
    "res=gb_rc.predict(tt)"
   ]
  },
  {
   "cell_type": "code",
   "execution_count": 119,
   "id": "16920fcc",
   "metadata": {},
   "outputs": [
    {
     "data": {
      "text/plain": [
       "array([176.11381714])"
      ]
     },
     "execution_count": 119,
     "metadata": {},
     "output_type": "execute_result"
    }
   ],
   "source": [
    "res"
   ]
  }
 ],
 "metadata": {
  "kernelspec": {
   "display_name": "Python 3 (ipykernel)",
   "language": "python",
   "name": "python3"
  },
  "language_info": {
   "codemirror_mode": {
    "name": "ipython",
    "version": 3
   },
   "file_extension": ".py",
   "mimetype": "text/x-python",
   "name": "python",
   "nbconvert_exporter": "python",
   "pygments_lexer": "ipython3",
   "version": "3.9.12"
  }
 },
 "nbformat": 4,
 "nbformat_minor": 5
}
